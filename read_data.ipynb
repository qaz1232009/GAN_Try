{
 "cells": [
  {
   "cell_type": "markdown",
   "metadata": {},
   "source": [
    "### Train, Valid, Test\n",
    "- **train** and **valid** are sampled from 3 horizonal consecutive grids, used to train and validate our model.\n",
    "- **test** is sampled from 3 vertical consecutive grids. They are actually used for signal map imputation. There are 54 missing grids in total. Their coordinates are stored in `test_points`.\n",
    "\n",
    "- There are 2400000 samples for **train**\n",
    "- There are 480000 samples for **valid**\n",
    "- There are 54 $\\times$ 12000 samples for **test** (12000 samples for each grid, and 54 grids)\n",
    "\n",
    "### Datatype\n",
    "\n",
    "- `train_input`, `train_gt`, `valid_input`, `valid_gt`: the sample coordinates are not recorded because these data are only for GAN training instead of signal map imputation. Datatype: **(sample number, left/mid/right, AP)**\n",
    "  \n",
    "- `test_input`, `test_gt`: the generated data will later be used for signal map generation, so the coordinates are specified. There are 54 coordinates, so we have the datatype: **(54, sample number, left/mid/right, AP)**. Through the first dimention we can find the coordiates through `test_points` (in the exact order).\n",
    "\n",
    "\n"
   ]
  },
  {
   "cell_type": "code",
   "execution_count": 1,
   "metadata": {},
   "outputs": [],
   "source": [
    "import numpy as np"
   ]
  },
  {
   "cell_type": "code",
   "execution_count": 16,
   "metadata": {},
   "outputs": [
    {
     "name": "stdout",
     "output_type": "stream",
     "text": [
      "train_input shape: (2400000, 3, 4)\n",
      "train_gt shape: (2400000, 3, 4)\n",
      "valid_input shape: (480000, 3, 4)\n",
      "valid_gt shape: (480000, 3, 4)\n",
      "test_input shape: (54, 12000, 4, 3)\n",
      "test_gt shape: (54, 12000, 4, 3)\n"
     ]
    }
   ],
   "source": [
    "train_input = np.load('train_input.npy')\n",
    "train_gt = np.load('train_gt.npy')\n",
    "valid_input = np.load('valid_input.npy')\n",
    "valid_gt = np.load('valid_gt.npy')\n",
    "test_input = np.load('test_input.npy')\n",
    "test_gt = np.load('test_gt.npy')\n",
    "test_input = np.load('test_input.npy')\n",
    "test_input = test_input.transpose(0,1,3,2)\n",
    "test_gt = np.load('test_gt.npy')\n",
    "test_gt = test_gt.transpose(0,1,3,2)\n",
    "\n",
    "print('train_input shape:', train_input.shape)\n",
    "print('train_gt shape:', train_gt.shape)\n",
    "print('valid_input shape:', valid_input.shape)\n",
    "print('valid_gt shape:', valid_gt.shape)\n",
    "print('test_input shape:', test_input.shape)\n",
    "print('test_gt shape:', test_gt.shape)"
   ]
  },
  {
   "cell_type": "code",
   "execution_count": 20,
   "metadata": {},
   "outputs": [
    {
     "data": {
      "text/plain": [
       "array([[[-46. , -44. , -42. ],\n",
       "        [-48. , -48.5, -49. ],\n",
       "        [-51. , -51. , -51. ],\n",
       "        [-61. , -60. , -59. ]],\n",
       "\n",
       "       [[-46. , -46.5, -47. ],\n",
       "        [-52. , -49. , -46. ],\n",
       "        [-51. , -51. , -51. ],\n",
       "        [-59. , -60. , -61. ]],\n",
       "\n",
       "       [[-46. , -44.5, -43. ],\n",
       "        [-49. , -49. , -49. ],\n",
       "        [-51. , -51. , -51. ],\n",
       "        [-60. , -60.5, -61. ]],\n",
       "\n",
       "       [[-46. , -44.5, -43. ],\n",
       "        [-48. , -47. , -46. ],\n",
       "        [-52. , -51.5, -51. ],\n",
       "        [-60. , -60. , -60. ]],\n",
       "\n",
       "       [[-46. , -45. , -44. ],\n",
       "        [-48. , -49. , -50. ],\n",
       "        [-51. , -51. , -51. ],\n",
       "        [-59. , -60. , -61. ]]])"
      ]
     },
     "execution_count": 20,
     "metadata": {},
     "output_type": "execute_result"
    }
   ],
   "source": [
    "test_input = test_input[:54,:1200,:,:]\n",
    "test_input.reshape(-1,4,3)[:5]"
   ]
  },
  {
   "cell_type": "code",
   "execution_count": 21,
   "metadata": {},
   "outputs": [
    {
     "data": {
      "text/plain": [
       "array([[[-46., -44., -42.],\n",
       "        [-48., -50., -49.],\n",
       "        [-51., -52., -51.],\n",
       "        [-61., -59., -59.]],\n",
       "\n",
       "       [[-46., -44., -47.],\n",
       "        [-52., -48., -46.],\n",
       "        [-51., -50., -51.],\n",
       "        [-59., -60., -61.]],\n",
       "\n",
       "       [[-46., -45., -43.],\n",
       "        [-49., -51., -49.],\n",
       "        [-51., -51., -51.],\n",
       "        [-60., -60., -61.]],\n",
       "\n",
       "       [[-46., -44., -43.],\n",
       "        [-48., -49., -46.],\n",
       "        [-52., -52., -51.],\n",
       "        [-60., -58., -60.]],\n",
       "\n",
       "       [[-46., -44., -44.],\n",
       "        [-48., -50., -50.],\n",
       "        [-51., -51., -51.],\n",
       "        [-59., -60., -61.]]])"
      ]
     },
     "execution_count": 21,
     "metadata": {},
     "output_type": "execute_result"
    }
   ],
   "source": [
    "test_gt = test_gt[:54,:1200,:,:]\n",
    "test_gt.reshape(-1,4,3)[:5]"
   ]
  },
  {
   "cell_type": "code",
   "execution_count": 3,
   "metadata": {},
   "outputs": [
    {
     "name": "stdout",
     "output_type": "stream",
     "text": [
      "x 0 y 1\n",
      "x 0 y 3\n",
      "x 0 y 5\n",
      "x 0 y 7\n",
      "x 0 y 9\n",
      "x 0 y 11\n",
      "x 0 y 13\n",
      "x 0 y 15\n",
      "x 0 y 17\n",
      "x 1 y 1\n",
      "x 1 y 3\n",
      "x 1 y 5\n",
      "x 1 y 7\n",
      "x 1 y 9\n",
      "x 1 y 11\n",
      "x 1 y 13\n",
      "x 1 y 15\n",
      "x 1 y 17\n",
      "x 2 y 1\n",
      "x 2 y 3\n",
      "x 2 y 5\n",
      "x 2 y 7\n",
      "x 2 y 9\n",
      "x 2 y 11\n",
      "x 2 y 13\n",
      "x 2 y 15\n",
      "x 2 y 17\n",
      "x 3 y 1\n",
      "x 3 y 3\n",
      "x 3 y 5\n",
      "x 3 y 7\n",
      "x 3 y 9\n",
      "x 3 y 11\n",
      "x 3 y 13\n",
      "x 3 y 15\n",
      "x 3 y 17\n",
      "x 4 y 1\n",
      "x 4 y 3\n",
      "x 4 y 5\n",
      "x 4 y 7\n",
      "x 4 y 9\n",
      "x 4 y 11\n",
      "x 4 y 13\n",
      "x 4 y 15\n",
      "x 4 y 17\n",
      "x 5 y 1\n",
      "x 5 y 3\n",
      "x 5 y 5\n",
      "x 5 y 7\n",
      "x 5 y 9\n",
      "x 5 y 11\n",
      "x 5 y 13\n",
      "x 5 y 15\n",
      "x 5 y 17\n"
     ]
    }
   ],
   "source": [
    "test_points = np.load('test_points.npy')\n",
    "for x, y in test_points:\n",
    "    print('x', x, 'y', y)"
   ]
  },
  {
   "cell_type": "code",
   "execution_count": 4,
   "metadata": {},
   "outputs": [
    {
     "data": {
      "text/plain": [
       "array([[[-48. , -46. , -51. , -59. ],\n",
       "        [-51.5, -46.5, -52.5, -60. ],\n",
       "        [-55. , -47. , -54. , -61. ]],\n",
       "\n",
       "       [[-44. , -50. , -50. , -60. ],\n",
       "        [-49.5, -48.5, -50. , -61. ],\n",
       "        [-55. , -47. , -50. , -62. ]]])"
      ]
     },
     "execution_count": 4,
     "metadata": {},
     "output_type": "execute_result"
    }
   ],
   "source": [
    "train_input[0:2]"
   ]
  },
  {
   "cell_type": "code",
   "execution_count": 14,
   "metadata": {},
   "outputs": [
    {
     "name": "stdout",
     "output_type": "stream",
     "text": [
      "[[-48.  -51.5 -55. ]\n",
      " [-46.  -46.5 -47. ]\n",
      " [-51.  -52.5 -54. ]\n",
      " [-59.  -60.  -61. ]]\n",
      "[[-48. -45. -55.]\n",
      " [-46. -46. -47.]\n",
      " [-51. -50. -54.]\n",
      " [-59. -65. -61.]]\n"
     ]
    }
   ],
   "source": [
    "print(train_input.transpose(0,2,1)[0,:,:])\n",
    "print(train_gt.transpose(0,2,1)[0,:,:])"
   ]
  },
  {
   "cell_type": "code",
   "execution_count": 15,
   "metadata": {},
   "outputs": [
    {
     "name": "stdout",
     "output_type": "stream",
     "text": [
      "[-51.5 -46.5 -52.5 -60. ]\n",
      "[-45. -46. -50. -65.]\n"
     ]
    }
   ],
   "source": [
    "print(train_input.transpose(0,2,1)[0,:,1])\n",
    "print(train_gt.transpose(0,2,1)[0,:,1])"
   ]
  },
  {
   "cell_type": "code",
   "execution_count": null,
   "metadata": {},
   "outputs": [],
   "source": []
  }
 ],
 "metadata": {
  "kernelspec": {
   "display_name": "Python 3",
   "language": "python",
   "name": "python3"
  },
  "language_info": {
   "codemirror_mode": {
    "name": "ipython",
    "version": 3
   },
   "file_extension": ".py",
   "mimetype": "text/x-python",
   "name": "python",
   "nbconvert_exporter": "python",
   "pygments_lexer": "ipython3",
   "version": "3.8.5"
  }
 },
 "nbformat": 4,
 "nbformat_minor": 4
}
