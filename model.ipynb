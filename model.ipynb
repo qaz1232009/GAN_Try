{
 "cells": [
  {
   "cell_type": "markdown",
   "metadata": {},
   "source": [
    "# Import Package"
   ]
  },
  {
   "cell_type": "code",
   "execution_count": 1,
   "metadata": {},
   "outputs": [],
   "source": [
    "import torch.nn as nn\n",
    "import torch\n",
    "import numpy as np\n",
    "import torch.nn.functional as F"
   ]
  },
  {
   "cell_type": "markdown",
   "metadata": {},
   "source": [
    "# Model Class"
   ]
  },
  {
   "cell_type": "code",
   "execution_count": 2,
   "metadata": {},
   "outputs": [],
   "source": [
    "class Encoder(nn.Module):\n",
    "    def __init__(self):\n",
    "        super(Encoder, self).__init__()\n",
    "        \n",
    "        # For encoder\n",
    "        self.encode = nn.Sequential(\n",
    "            nn.Linear(12,32),\n",
    "            nn.LeakyReLU(),\n",
    "            nn.Linear(32,64),\n",
    "            nn.LeakyReLU(),\n",
    "            nn.Linear(64,128),\n",
    "            nn.LeakyReLU(),\n",
    "            nn.Linear(128,70),\n",
    "            nn.LeakyReLU(),\n",
    "            nn.Linear(70,35),\n",
    "            nn.LeakyReLU(),\n",
    "            nn.Linear(35,16),\n",
    "            nn.LeakyReLU()\n",
    "        )\n",
    "        \n",
    "        self.l_mu = nn.Linear(in_features=16, out_features=10)\n",
    "        self.l_var = nn.Linear(in_features=16,out_features=10)\n",
    "    \n",
    "    def encoder(self, x):\n",
    "        x = x.view(-1,12)\n",
    "        h = self.encode(x)\n",
    "        mu = self.l_mu(h)\n",
    "        log_var = self.l_var(h)\n",
    "        \n",
    "        return mu, log_var  # mu, log_var\n",
    "    \n",
    "    def sampling(self, mu, log_var):\n",
    "        std = torch.exp(0.5 * log_var)\n",
    "        eps = torch.randn_like(std)\n",
    "        return eps.mul(std).add_(mu)  # return z sample\n",
    "    \n",
    "    def auxilary(self,z):\n",
    "        z_p = Variable(z.data.new(z.size()).normal_())\n",
    "        return z_p\n",
    "    \n",
    "    def forward(self, x):\n",
    "        mu, log_var = self.encoder(x)\n",
    "        z = self.sampling(mu, log_var)\n",
    "        z_p = self.auxilary(z)\n",
    "        return mu, log_var, z,z_p\n",
    "\n",
    "class Decoder(nn.Module):\n",
    "    def __init__(self):\n",
    "        super(Decoder, self).__init__()\n",
    "        \n",
    "        self.decode = nn.Sequential(\n",
    "            nn.Linear(10,40),\n",
    "            nn.LeakyReLU(),\n",
    "            nn.Linear(40,80),\n",
    "            nn.LeakyReLU(),\n",
    "            nn.Linear(80, 256),\n",
    "            nn.LeakyReLU(),\n",
    "            nn.Linear(256, 128),\n",
    "            nn.LeakyReLU(),\n",
    "            nn.Linear(128, 64),\n",
    "            nn.LeakyReLU(),\n",
    "            nn.Linear(64, 32),\n",
    "            nn.LeakyReLU(),\n",
    "        )\n",
    "        self.output = nn.Linear(in_features=32, out_features=12)\n",
    "    \n",
    "    def forward(self, z):\n",
    "        h = self.decode(z)\n",
    "        h = self.output(h)\n",
    "        return h\n",
    "    \n",
    "class Discriminator(nn.Module):\n",
    "    def __init__(self):\n",
    "        super(Discriminator, self).__init__()\n",
    "\n",
    "        self.discriminator = nn.Sequential(\n",
    "            nn.Linear(12,64),\n",
    "            nn.LeakyReLU(),\n",
    "            nn.Linear(64, 128),\n",
    "            nn.LeakyReLU(),\n",
    "            nn.Linear(128, 64),\n",
    "            nn.LeakyReLU(),\n",
    "            nn.Linear(64,1),\n",
    "            nn.LeakyReLU(),\n",
    "        )\n",
    "        self.sigmoid = nn.Sigmoid()\n",
    "        \n",
    "    def forward(self, x):\n",
    "        x = x.view(-1,12)\n",
    "        validity = self.discriminator(x)\n",
    "        return self.sigmoid(validity)\n",
    "    \n",
    "    def similarity(self, x):\n",
    "        x = x.view(-1,12)\n",
    "        h = self.discriminator(x)\n",
    "        return h"
   ]
  },
  {
   "cell_type": "code",
   "execution_count": 3,
   "metadata": {},
   "outputs": [],
   "source": [
    "def discriminator_loss(recon_data, sample_data, real_data, REAL_LABEL, FAKE_LABEL):\n",
    "    recon_loss = F.binary_cross_entropy(recon_data, FAKE_LABEL)\n",
    "    sample_loss = F.binary_cross_entropy(sample_data, FAKE_LABEL)\n",
    "    real_loss = F.binary_cross_entropy(real_data, REAL_LABEL)\n",
    "    return recon_loss + sample_loss + real_loss"
   ]
  },
  {
   "cell_type": "markdown",
   "metadata": {},
   "source": [
    "## Plot loss(JPG)"
   ]
  },
  {
   "cell_type": "code",
   "execution_count": 4,
   "metadata": {},
   "outputs": [],
   "source": [
    "def plot_loss(train_dec_loss_li,train_dis_loss_li,train_enc_loss_li,valid_dec_loss_li,valid_dis_loss_li,valid_enc_loss_li,test_dec_loss_li,test_dis_loss_li,test_enc_loss_li):\n",
    "    plt.plot(train_dec_loss_li, color='b', label='train_dec_loss')\n",
    "    plt.plot(train_dis_loss_li, color='g', label='train_dis_loss')\n",
    "    plt.plot(train_enc_loss_li, color='r', label='train_enc_loss')\n",
    "    plt.plot(valid_dec_loss_li, color='cadetblue', label='valid_dec_loss')\n",
    "    plt.plot(valid_dis_loss_li, color='coral', label='valid_dis_loss')\n",
    "    plt.plot(valid_enc_loss_li, color='deepskyblue', label='valid_enc_loss')\n",
    "    plt.plot(test_dec_loss_li, color='fuchsia', label='valid_dec_loss')\n",
    "    plt.plot(test_dis_loss_li, color='hotpink', label='valid_dis_loss')\n",
    "    plt.plot(test_enc_loss_li, color='lavenderblush', label='valid_enc_loss')\n",
    "    plt.legend()\n",
    "    plt.savefig('loss_png/loss_all-{}.jpg'.format(str('')))\n",
    "    plt.close()\n",
    "\n",
    "    plt.plot(train_dec_loss_li, color='b', label='train_dec_loss')\n",
    "    plt.plot(train_dis_loss_li, color='g', label='train_dis_loss')\n",
    "    plt.plot(train_enc_loss_li, color='r', label='train_enc_loss')\n",
    "    plt.legend()\n",
    "    plt.savefig('loss_png/train_loss-{}.jpg'.format(str('')))\n",
    "    plt.close()\n",
    "\n",
    "    plt.plot(valid_dec_loss_li, color='cadetblue', label='valid_dec_loss')\n",
    "    plt.plot(valid_dis_loss_li, color='coral', label='valid_dis_loss')\n",
    "    plt.plot(valid_enc_loss_li, color='deepskyblue', label='valid_enc_loss')\n",
    "    plt.legend()\n",
    "    plt.savefig('loss_png/valid_loss-{}.jpg'.format(str('')))\n",
    "    plt.close()\n",
    "    \n",
    "    plt.plot(test_dec_loss_li, color='fuchsia', label='test_dec_loss')\n",
    "    plt.plot(test_dis_loss_li, color='hotpink', label='test_dis_loss')\n",
    "    plt.plot(test_enc_loss_li, color='lavenderblush', label='test_enc_loss')\n",
    "    plt.legend()\n",
    "    plt.savefig('loss_png/test_loss-{}.jpg'.format(str('')))\n",
    "    plt.close()"
   ]
  },
  {
   "cell_type": "markdown",
   "metadata": {},
   "source": [
    "## L1_loss Calculation"
   ]
  },
  {
   "cell_type": "code",
   "execution_count": 5,
   "metadata": {},
   "outputs": [],
   "source": [
    "def l1loss_cal(data_loader):\n",
    "    l1_loss = []\n",
    "    for i, (input_data,ground_truth) in enumerate(data_loader):\n",
    "        input_data = Variable(input_data.type(Tensor)).type(torch.cuda.FloatTensor)\n",
    "        ground_truth = Variable(ground_truth.type(Tensor)).type(torch.cuda.FloatTensor)\n",
    "\n",
    "        mu, log_var, z,z_p  = encoder(input_data)\n",
    "        predicts = decoder(z)\n",
    "        l1_loss.append(abs(float(torch.mean(ground_truth[0,:,1]-predicts.reshape(-1,4,3)[0,:,1]))))\n",
    "    return sum(l1_loss)/len(l1_loss)"
   ]
  },
  {
   "cell_type": "code",
   "execution_count": 6,
   "metadata": {},
   "outputs": [],
   "source": [
    "def plot_l1_loss(train_l1,valid_l1,test_l1):\n",
    "    plt.plot(train_l1, color='darkred', label='Train_l1_loss')\n",
    "    plt.plot(valid_l1, color='deeppink', label='Valid_l1_loss')\n",
    "    plt.plot(test_l1, color='gold', label='Test_l1_loss')\n",
    "    plt.legend()\n",
    "    plt.savefig('loss_png_l1/all_l1_loss-{}.jpg'.format(str('')))\n",
    "    plt.close()\n",
    "    \n",
    "    plt.plot(train_l1, color='darkred', label='Train_l1_loss')\n",
    "    plt.legend()\n",
    "    plt.savefig('loss_png_l1/train_l1_loss-{}.jpg'.format(str('')))\n",
    "    plt.close()\n",
    "    \n",
    "    plt.plot(valid_l1, color='deeppink', label='Valid_l1_loss')\n",
    "    plt.legend()\n",
    "    plt.savefig('loss_png_l1/valid_l1_loss-{}.jpg'.format(str('')))\n",
    "    plt.close()\n",
    "    \n",
    "    plt.plot(test_l1, color='gold', label='Valid_l1_loss')\n",
    "    plt.legend()\n",
    "    plt.savefig('loss_png_l1/test_l1_loss-{}.jpg'.format(str('')))\n",
    "    plt.close()"
   ]
  },
  {
   "cell_type": "markdown",
   "metadata": {},
   "source": [
    "# Load Data"
   ]
  },
  {
   "cell_type": "code",
   "execution_count": 7,
   "metadata": {},
   "outputs": [],
   "source": [
    "from torch.utils.data.dataset import Dataset\n",
    "from torch.utils.data import DataLoader, Subset\n",
    "from tqdm import tqdm "
   ]
  },
  {
   "cell_type": "markdown",
   "metadata": {},
   "source": [
    "## DataLoader Class"
   ]
  },
  {
   "cell_type": "code",
   "execution_count": 8,
   "metadata": {},
   "outputs": [],
   "source": [
    "class SignalDataset(Dataset):\n",
    "    def __init__(self, input_data,ground_truth):\n",
    "        self.input_data =input_data\n",
    "        self.ground_truth = ground_truth\n",
    "\n",
    "    def __getitem__(self, index):\n",
    "        input_data = np.array(self.input_data[index], dtype=np.float32)\n",
    "        ground_truth = np.array(self.ground_truth[index], dtype=np.float32)\n",
    "        return input_data,ground_truth\n",
    "\n",
    "    def __len__(self):\n",
    "        return len(self.input_data)"
   ]
  },
  {
   "cell_type": "code",
   "execution_count": 9,
   "metadata": {},
   "outputs": [],
   "source": [
    "train_input = np.load('train_input.npy').reshape(-1,3,4)\n",
    "train_gt = np.load('train_gt.npy').reshape(-1,3,4)\n",
    "valid_input = np.load('valid_input.npy').reshape(-1,3,4)\n",
    "valid_gt = np.load('valid_gt.npy').reshape(-1,3,4)\n",
    "test_input = np.load('test_input.npy')\n",
    "test_gt = np.load('test_gt.npy')"
   ]
  },
  {
   "cell_type": "code",
   "execution_count": 10,
   "metadata": {},
   "outputs": [],
   "source": [
    "train_input = train_input.transpose(0,2,1)\n",
    "train_gt = train_gt.transpose(0,2,1)\n",
    "valid_input = valid_input.transpose(0,2,1)\n",
    "valid_gt = valid_gt.transpose(0,2,1)\n",
    "test_input = test_input.transpose(0,1,3,2)\n",
    "test_gt = test_gt.transpose(0,1,3,2)"
   ]
  },
  {
   "cell_type": "code",
   "execution_count": 11,
   "metadata": {},
   "outputs": [],
   "source": [
    "test_input = test_input[:54,:1200,:,:]\n",
    "test_input = test_input.reshape(-1,4,3)[:5]\n",
    "test_gt = test_gt[:54,:1200,:,:]\n",
    "test_gt = test_gt.reshape(-1,4,3)[:5]"
   ]
  },
  {
   "cell_type": "code",
   "execution_count": 12,
   "metadata": {},
   "outputs": [],
   "source": [
    "train_dataset = SignalDataset(train_input[:240000],train_gt[:240000])\n",
    "valid_dataset = SignalDataset(valid_input,valid_gt)\n",
    "test_dataset = SignalDataset(test_input,test_gt)\n",
    "\n",
    "train_loader = DataLoader(dataset=train_dataset, batch_size=100, shuffle=True, num_workers=0)\n",
    "valid_loader = DataLoader(dataset=valid_dataset, batch_size=10000, shuffle=True, num_workers=0)\n",
    "test_loader = DataLoader(dataset=test_dataset, batch_size=10000, shuffle=True, num_workers=0)"
   ]
  },
  {
   "cell_type": "markdown",
   "metadata": {},
   "source": [
    "# Train Model"
   ]
  },
  {
   "cell_type": "code",
   "execution_count": 13,
   "metadata": {},
   "outputs": [],
   "source": [
    "from torch.autograd import Variable\n",
    "import matplotlib.pyplot as plt"
   ]
  },
  {
   "cell_type": "code",
   "execution_count": 14,
   "metadata": {},
   "outputs": [],
   "source": [
    "if torch.cuda.is_available():\n",
    "    Tensor = torch.cuda.FloatTensor\n",
    "    encoder = Encoder().cuda()\n",
    "    decoder = Decoder().cuda()\n",
    "    discriminator = Discriminator().cuda()\n",
    "    \n",
    "#     encoder_pt = 'wireless_gan/1.12/encoder.pt'\n",
    "#     encoder.load_state_dict(torch.load(encoder_pt))\n",
    "#     decoder_pt = 'wireless_gan/1.12/decoder.pt'\n",
    "#     decoder.load_state_dict(torch.load(decoder_pt))\n",
    "#     discriminator_pt = 'wireless_gan/1.12/discriminator.pt'\n",
    "#     discriminator.load_state_dict(torch.load(discriminator_pt))\n",
    "else:\n",
    "    Tensor = torch.FloatTensor\n",
    "    encoder = Encoder()\n",
    "    decoder = Decoder()\n",
    "    discriminator = Discriminator()"
   ]
  },
  {
   "cell_type": "code",
   "execution_count": 15,
   "metadata": {},
   "outputs": [],
   "source": [
    "train_dec_loss_li,train_dis_loss_li,train_enc_loss_li,valid_dec_loss_li,valid_dis_loss_li,valid_enc_loss_li = [],[],[],[],[],[]\n",
    "test_dec_loss_li,test_dis_loss_li,test_enc_loss_li = [],[],[]\n",
    "train_l1,valid_l1,test_l1 = [],[],[]"
   ]
  },
  {
   "cell_type": "code",
   "execution_count": 16,
   "metadata": {},
   "outputs": [],
   "source": [
    "optimizer_E = torch.optim.Adam(encoder.parameters(), lr=0.0001)\n",
    "optimizer_D = torch.optim.Adam(decoder.parameters(), lr=0.0001)\n",
    "optimizer_Dis = torch.optim.Adam(discriminator.parameters(), lr=0.0001)\n",
    "# lr_scheduler_G = torch.optim.lr_scheduler.StepLR(optimizer_G, step_size = 1, gamma=0.9)"
   ]
  },
  {
   "cell_type": "markdown",
   "metadata": {},
   "source": [
    "## Train model process detail function"
   ]
  },
  {
   "cell_type": "code",
   "execution_count": 17,
   "metadata": {},
   "outputs": [],
   "source": [
    "def model_process(mode,dataloader,epoch):\n",
    "    dec_loss,dis_loss,enc_loss,flag = 0,0,0,0\n",
    "    for i, (input_data,ground_truth) in tqdm(enumerate(dataloader)):\n",
    "        valid = Variable(Tensor(len(input_data), 1).fill_(1.0), requires_grad=False).type(torch.cuda.FloatTensor)\n",
    "        fake = Variable(Tensor(len(input_data), 1).fill_(0.0), requires_grad=False).type(torch.cuda.FloatTensor)\n",
    "        input_data = Variable(input_data.type(Tensor)).type(torch.cuda.FloatTensor)\n",
    "        ground_truth = Variable(ground_truth.type(Tensor)).type(torch.cuda.FloatTensor)\n",
    "\n",
    "        mu, log_var, z,z_p  = encoder(input_data)\n",
    "        predicts = decoder(z)\n",
    "        predicts_p = decoder(z_p)\n",
    "\n",
    "        X = discriminator(predicts)\n",
    "        X_p = discriminator(predicts_p)\n",
    "        X_real = discriminator(ground_truth)\n",
    "        X_sim = discriminator.similarity(predicts)\n",
    "        X_data = discriminator.similarity(ground_truth)\n",
    "        dis_loss = discriminator_loss(X, X_p, X_real, valid, fake)\n",
    "        if mode =='train':\n",
    "            if epoch % 2 == 0 and flag==0:\n",
    "                if epoch == 0 and i>10:\n",
    "                    flag = 1\n",
    "                optimizer_Dis.zero_grad()\n",
    "                dis_loss.backward(retain_graph=True)\n",
    "                optimizer_Dis.step()\n",
    "        \n",
    "        X = discriminator(predicts)\n",
    "        X_p = discriminator(predicts_p)\n",
    "        X_real = discriminator(ground_truth)\n",
    "        X_sim = discriminator.similarity(predicts)\n",
    "        X_data = discriminator.similarity(ground_truth)\n",
    "        dis_loss = discriminator_loss(X, X_p, X_real, valid, fake)\n",
    "        rec_loss = ((X_sim - X_data) ** 2).mean()\n",
    "        l1_loss_fuc = nn.L1Loss()\n",
    "        \n",
    "#         l1_loss_dec = l1_loss_fuc(predicts, ground_truth.view(-1,12))\n",
    "        l1_loss_dec_a = l1_loss_fuc(predicts.view(-1,4,3)[:, :, 0], ground_truth[:, :, 0])\n",
    "        l1_loss_dec_b = l1_loss_fuc(predicts.view(-1,4,3)[:, :, 2], ground_truth[:, :, 2])\n",
    "        l1_loss_dec = l1_loss_dec_a + l1_loss_dec_b\n",
    "        decoder_loss = 100 * rec_loss - 2 * dis_loss + 0.1 * l1_loss_dec\n",
    "        if mode =='train':\n",
    "            optimizer_D.zero_grad()\n",
    "            decoder_loss.backward(retain_graph=True)\n",
    "            optimizer_D.step()\n",
    "\n",
    "        mu, log_var, z,z_p  = encoder(input_data)\n",
    "        predicts = decoder(z)\n",
    "        predicts_p = decoder(z_p)\n",
    "        X_sim = discriminator.similarity(predicts)\n",
    "        X_data = discriminator.similarity(ground_truth)\n",
    "        rec_loss = ((X_sim - X_data) ** 2).mean()\n",
    "        mu, log_var, z,z_p  = encoder(input_data)\n",
    "        KLD = -0.5 * torch.sum(1 + log_var - mu.pow(2) - log_var.exp())\n",
    "        KLD = KLD / len(input_data) * 12\n",
    "        \n",
    "        l1_loss_dec_a = l1_loss_fuc(predicts.view(-1,4,3)[:, :, 0], ground_truth[:, :, 0])\n",
    "        l1_loss_dec_b = l1_loss_fuc(predicts.view(-1,4,3)[:, :, 2], ground_truth[:, :, 2])\n",
    "        l1_loss_dec = l1_loss_dec_a + l1_loss_dec_b\n",
    "        \n",
    "        encoder_loss = KLD + 10 * rec_loss\n",
    "        if mode =='train':\n",
    "            optimizer_E.zero_grad()\n",
    "            encoder_loss.backward()\n",
    "            optimizer_E.step()\n",
    "        dec_loss = dec_loss + decoder_loss.item()\n",
    "        dis_loss = dis_loss + dis_loss.item()\n",
    "        enc_loss = enc_loss + encoder_loss.item()\n",
    "    return dec_loss,dis_loss,enc_loss,predicts"
   ]
  },
  {
   "cell_type": "markdown",
   "metadata": {},
   "source": [
    "## Start Train Epoch"
   ]
  },
  {
   "cell_type": "code",
   "execution_count": 18,
   "metadata": {},
   "outputs": [
    {
     "name": "stderr",
     "output_type": "stream",
     "text": [
      "0it [00:00, ?it/s]"
     ]
    },
    {
     "name": "stdout",
     "output_type": "stream",
     "text": [
      "Training\n"
     ]
    },
    {
     "name": "stderr",
     "output_type": "stream",
     "text": [
      "2400it [00:43, 55.48it/s]\n",
      "1it [00:00,  5.39it/s]"
     ]
    },
    {
     "name": "stdout",
     "output_type": "stream",
     "text": [
      "====> Epoch: 1 Average Decoder loss: 41.3183 Average Discriminator loss: 0.0048 Average Ecoder loss: 4.8671\n",
      "Validing\n"
     ]
    },
    {
     "name": "stderr",
     "output_type": "stream",
     "text": [
      "48it [00:06,  7.50it/s]\n",
      "1it [00:00, 111.66it/s]\n"
     ]
    },
    {
     "name": "stdout",
     "output_type": "stream",
     "text": [
      "Valid Epoch:1 ===> Average Decoder loss: -2.4841 Average Discriminator loss: 0.2168 Average Ecoder loss: 0.3798\n",
      "Testing\n",
      "Test Epoch:1 ===> Average Decoder loss: -6.3348 Average Discriminator loss: 10.4362 Average Ecoder loss: 0.0921\n",
      "L1 loss Calculation Train 46.92356316725413 Valid 45.97558983167013 Test 44.738792419433594\n"
     ]
    },
    {
     "name": "stderr",
     "output_type": "stream",
     "text": [
      "5it [00:00, 49.65it/s]"
     ]
    },
    {
     "name": "stdout",
     "output_type": "stream",
     "text": [
      "Training\n"
     ]
    },
    {
     "name": "stderr",
     "output_type": "stream",
     "text": [
      "2400it [00:43, 55.79it/s]\n",
      "1it [00:00,  5.60it/s]"
     ]
    },
    {
     "name": "stdout",
     "output_type": "stream",
     "text": [
      "====> Epoch: 2 Average Decoder loss: -8.9837 Average Discriminator loss: 0.0043 Average Ecoder loss: 0.0360\n",
      "Validing\n"
     ]
    },
    {
     "name": "stderr",
     "output_type": "stream",
     "text": [
      "48it [00:06,  7.47it/s]\n",
      "1it [00:00, 110.67it/s]\n"
     ]
    },
    {
     "name": "stdout",
     "output_type": "stream",
     "text": [
      "Valid Epoch:2 ===> Average Decoder loss: -8.2685 Average Discriminator loss: 0.2192 Average Ecoder loss: 0.1392\n",
      "Testing\n",
      "Test Epoch:2 ===> Average Decoder loss: -8.8634 Average Discriminator loss: 10.5569 Average Ecoder loss: 0.0881\n",
      "L1 loss Calculation Train 43.987283237775166 Valid 42.872920513153076 Test 41.57769775390625\n"
     ]
    },
    {
     "name": "stderr",
     "output_type": "stream",
     "text": [
      "4it [00:00, 39.32it/s]"
     ]
    },
    {
     "name": "stdout",
     "output_type": "stream",
     "text": [
      "Training\n"
     ]
    },
    {
     "name": "stderr",
     "output_type": "stream",
     "text": [
      "2400it [00:51, 46.44it/s]\n",
      "1it [00:00,  5.51it/s]"
     ]
    },
    {
     "name": "stdout",
     "output_type": "stream",
     "text": [
      "====> Epoch: 3 Average Decoder loss: 136.1185 Average Discriminator loss: 0.0016 Average Ecoder loss: 13.8403\n",
      "Validing\n"
     ]
    },
    {
     "name": "stderr",
     "output_type": "stream",
     "text": [
      "48it [00:06,  7.10it/s]\n",
      "1it [00:00, 116.66it/s]\n"
     ]
    },
    {
     "name": "stdout",
     "output_type": "stream",
     "text": [
      "Valid Epoch:3 ===> Average Decoder loss: -2.8603 Average Discriminator loss: 0.0797 Average Ecoder loss: 0.0022\n",
      "Testing\n",
      "Test Epoch:3 ===> Average Decoder loss: -3.4528 Average Discriminator loss: 3.8149 Average Ecoder loss: 0.0010\n",
      "L1 loss Calculation Train 3.9694434158007303 Valid 3.160572429498037 Test 2.151561737060547\n"
     ]
    },
    {
     "name": "stderr",
     "output_type": "stream",
     "text": [
      "5it [00:00, 49.64it/s]"
     ]
    },
    {
     "name": "stdout",
     "output_type": "stream",
     "text": [
      "Training\n"
     ]
    },
    {
     "name": "stderr",
     "output_type": "stream",
     "text": [
      "2400it [00:43, 55.60it/s]\n",
      "1it [00:00,  5.93it/s]"
     ]
    },
    {
     "name": "stdout",
     "output_type": "stream",
     "text": [
      "====> Epoch: 4 Average Decoder loss: -3.5009 Average Discriminator loss: 0.0016 Average Ecoder loss: 0.0016\n",
      "Validing\n"
     ]
    },
    {
     "name": "stderr",
     "output_type": "stream",
     "text": [
      "48it [00:06,  7.32it/s]\n",
      "1it [00:00, 116.45it/s]\n"
     ]
    },
    {
     "name": "stdout",
     "output_type": "stream",
     "text": [
      "Valid Epoch:4 ===> Average Decoder loss: -2.8940 Average Discriminator loss: 0.0798 Average Ecoder loss: 0.0020\n",
      "Testing\n",
      "Test Epoch:4 ===> Average Decoder loss: -3.4302 Average Discriminator loss: 3.8231 Average Ecoder loss: 0.0006\n",
      "L1 loss Calculation Train 4.584758236010869 Valid 3.6998135248819985 Test 1.862844467163086\n"
     ]
    },
    {
     "name": "stderr",
     "output_type": "stream",
     "text": [
      "4it [00:00, 38.95it/s]"
     ]
    },
    {
     "name": "stdout",
     "output_type": "stream",
     "text": [
      "Training\n"
     ]
    },
    {
     "name": "stderr",
     "output_type": "stream",
     "text": [
      "2400it [00:51, 46.37it/s]\n",
      "0it [00:00, ?it/s]"
     ]
    },
    {
     "name": "stdout",
     "output_type": "stream",
     "text": [
      "====> Epoch: 5 Average Decoder loss: -3.4915 Average Discriminator loss: 0.0016 Average Ecoder loss: 0.0021\n",
      "Validing\n"
     ]
    },
    {
     "name": "stderr",
     "output_type": "stream",
     "text": [
      "48it [00:06,  7.01it/s]\n",
      "1it [00:00, 111.41it/s]\n"
     ]
    },
    {
     "name": "stdout",
     "output_type": "stream",
     "text": [
      "Valid Epoch:5 ===> Average Decoder loss: -2.9428 Average Discriminator loss: 0.0795 Average Ecoder loss: 0.0061\n",
      "Testing\n",
      "Test Epoch:5 ===> Average Decoder loss: -3.1810 Average Discriminator loss: 3.8131 Average Ecoder loss: 0.0009\n",
      "L1 loss Calculation Train 2.967223243713379 Valid 4.0068038900693255 Test 5.913028717041016\n"
     ]
    },
    {
     "name": "stderr",
     "output_type": "stream",
     "text": [
      "6it [00:00, 50.13it/s]"
     ]
    },
    {
     "name": "stdout",
     "output_type": "stream",
     "text": [
      "Training\n"
     ]
    },
    {
     "name": "stderr",
     "output_type": "stream",
     "text": [
      "2400it [00:43, 55.63it/s]\n",
      "0it [00:00, ?it/s]"
     ]
    },
    {
     "name": "stdout",
     "output_type": "stream",
     "text": [
      "====> Epoch: 6 Average Decoder loss: -3.5084 Average Discriminator loss: 0.0016 Average Ecoder loss: 0.0013\n",
      "Validing\n"
     ]
    },
    {
     "name": "stderr",
     "output_type": "stream",
     "text": [
      "48it [00:06,  7.18it/s]\n",
      "1it [00:00, 125.41it/s]\n"
     ]
    },
    {
     "name": "stdout",
     "output_type": "stream",
     "text": [
      "Valid Epoch:6 ===> Average Decoder loss: -2.9974 Average Discriminator loss: 0.0796 Average Ecoder loss: 0.0061\n",
      "Testing\n",
      "Test Epoch:6 ===> Average Decoder loss: -3.0433 Average Discriminator loss: 3.8203 Average Ecoder loss: 0.0005\n",
      "L1 loss Calculation Train 1.754825716416041 Valid 2.5416820844014487 Test 4.178241729736328\n"
     ]
    },
    {
     "name": "stderr",
     "output_type": "stream",
     "text": [
      "5it [00:00, 41.11it/s]"
     ]
    },
    {
     "name": "stdout",
     "output_type": "stream",
     "text": [
      "Training\n"
     ]
    },
    {
     "name": "stderr",
     "output_type": "stream",
     "text": [
      "2400it [00:51, 46.24it/s]\n",
      "1it [00:00,  6.55it/s]"
     ]
    },
    {
     "name": "stdout",
     "output_type": "stream",
     "text": [
      "====> Epoch: 7 Average Decoder loss: -3.5013 Average Discriminator loss: 0.0016 Average Ecoder loss: 0.0013\n",
      "Validing\n"
     ]
    },
    {
     "name": "stderr",
     "output_type": "stream",
     "text": [
      "48it [00:06,  7.02it/s]\n",
      "1it [00:00, 111.41it/s]\n"
     ]
    },
    {
     "name": "stdout",
     "output_type": "stream",
     "text": [
      "Valid Epoch:7 ===> Average Decoder loss: -2.9692 Average Discriminator loss: 0.0794 Average Ecoder loss: 0.0087\n",
      "Testing\n",
      "Test Epoch:7 ===> Average Decoder loss: -2.9267 Average Discriminator loss: 3.7845 Average Ecoder loss: 0.0086\n",
      "L1 loss Calculation Train 9.223076799313228 Valid 10.446164190769196 Test 11.11361312866211\n"
     ]
    },
    {
     "name": "stderr",
     "output_type": "stream",
     "text": [
      "6it [00:00, 50.15it/s]"
     ]
    },
    {
     "name": "stdout",
     "output_type": "stream",
     "text": [
      "Training\n"
     ]
    },
    {
     "name": "stderr",
     "output_type": "stream",
     "text": [
      "2400it [00:43, 55.63it/s]\n",
      "1it [00:00,  6.08it/s]"
     ]
    },
    {
     "name": "stdout",
     "output_type": "stream",
     "text": [
      "====> Epoch: 8 Average Decoder loss: -3.5117 Average Discriminator loss: 0.0016 Average Ecoder loss: 0.0013\n",
      "Validing\n"
     ]
    },
    {
     "name": "stderr",
     "output_type": "stream",
     "text": [
      "48it [00:06,  7.18it/s]\n",
      "1it [00:00, 111.42it/s]\n"
     ]
    },
    {
     "name": "stdout",
     "output_type": "stream",
     "text": [
      "Valid Epoch:8 ===> Average Decoder loss: -2.9898 Average Discriminator loss: 0.0798 Average Ecoder loss: 0.0081\n",
      "Testing\n",
      "Test Epoch:8 ===> Average Decoder loss: -3.0111 Average Discriminator loss: 3.7981 Average Ecoder loss: 0.0038\n",
      "L1 loss Calculation Train 6.002062582969666 Valid 6.937677840391795 Test 8.480497360229492\n"
     ]
    },
    {
     "name": "stderr",
     "output_type": "stream",
     "text": [
      "5it [00:00, 41.09it/s]"
     ]
    },
    {
     "name": "stdout",
     "output_type": "stream",
     "text": [
      "Training\n"
     ]
    },
    {
     "name": "stderr",
     "output_type": "stream",
     "text": [
      "2400it [00:51, 46.41it/s]\n",
      "1it [00:00,  6.15it/s]"
     ]
    },
    {
     "name": "stdout",
     "output_type": "stream",
     "text": [
      "====> Epoch: 9 Average Decoder loss: -3.4874 Average Discriminator loss: 0.0016 Average Ecoder loss: 0.0023\n",
      "Validing\n"
     ]
    },
    {
     "name": "stderr",
     "output_type": "stream",
     "text": [
      "48it [00:06,  6.96it/s]\n",
      "1it [00:00, 112.27it/s]\n"
     ]
    },
    {
     "name": "stdout",
     "output_type": "stream",
     "text": [
      "Valid Epoch:9 ===> Average Decoder loss: -2.7521 Average Discriminator loss: 0.0796 Average Ecoder loss: 0.0290\n",
      "Testing\n",
      "Test Epoch:9 ===> Average Decoder loss: -3.0601 Average Discriminator loss: 3.7962 Average Ecoder loss: 0.0035\n",
      "L1 loss Calculation Train 9.657848578691482 Valid 10.43226401011149 Test 12.107812881469727\n"
     ]
    },
    {
     "name": "stderr",
     "output_type": "stream",
     "text": [
      "6it [00:00, 50.57it/s]"
     ]
    },
    {
     "name": "stdout",
     "output_type": "stream",
     "text": [
      "Training\n"
     ]
    },
    {
     "name": "stderr",
     "output_type": "stream",
     "text": [
      "2400it [00:43, 55.70it/s]\n",
      "1it [00:00,  6.51it/s]"
     ]
    },
    {
     "name": "stdout",
     "output_type": "stream",
     "text": [
      "====> Epoch: 10 Average Decoder loss: -3.4972 Average Discriminator loss: 0.0016 Average Ecoder loss: 0.0026\n",
      "Validing\n"
     ]
    },
    {
     "name": "stderr",
     "output_type": "stream",
     "text": [
      "48it [00:06,  7.18it/s]\n",
      "1it [00:00, 109.95it/s]\n"
     ]
    },
    {
     "name": "stdout",
     "output_type": "stream",
     "text": [
      "Valid Epoch:10 ===> Average Decoder loss: -2.7814 Average Discriminator loss: 0.0798 Average Ecoder loss: 0.0275\n",
      "Testing\n",
      "Test Epoch:10 ===> Average Decoder loss: -3.0427 Average Discriminator loss: 3.8055 Average Ecoder loss: 0.0015\n",
      "L1 loss Calculation Train 9.887864510218302 Valid 10.967256426811218 Test 12.359196662902832\n",
      "Training\n"
     ]
    },
    {
     "name": "stderr",
     "output_type": "stream",
     "text": [
      "2400it [00:51, 46.29it/s]\n",
      "0it [00:00, ?it/s]"
     ]
    },
    {
     "name": "stdout",
     "output_type": "stream",
     "text": [
      "====> Epoch: 11 Average Decoder loss: -3.4718 Average Discriminator loss: 0.0016 Average Ecoder loss: 0.0033\n",
      "Validing\n"
     ]
    },
    {
     "name": "stderr",
     "output_type": "stream",
     "text": [
      "48it [00:06,  6.90it/s]\n",
      "1it [00:00, 111.06it/s]\n"
     ]
    },
    {
     "name": "stdout",
     "output_type": "stream",
     "text": [
      "Valid Epoch:11 ===> Average Decoder loss: -2.6834 Average Discriminator loss: 0.0797 Average Ecoder loss: 0.0334\n",
      "Testing\n",
      "Test Epoch:11 ===> Average Decoder loss: -2.9381 Average Discriminator loss: 3.7766 Average Ecoder loss: 0.0136\n",
      "L1 loss Calculation Train 2.106812058289846 Valid 1.4742183883984883 Test 0.03149700164794922\n"
     ]
    },
    {
     "name": "stderr",
     "output_type": "stream",
     "text": [
      "5it [00:00, 47.30it/s]"
     ]
    },
    {
     "name": "stdout",
     "output_type": "stream",
     "text": [
      "Training\n"
     ]
    },
    {
     "name": "stderr",
     "output_type": "stream",
     "text": [
      "2400it [00:43, 55.57it/s]\n",
      "1it [00:00,  6.55it/s]"
     ]
    },
    {
     "name": "stdout",
     "output_type": "stream",
     "text": [
      "====> Epoch: 12 Average Decoder loss: -3.4670 Average Discriminator loss: 0.0016 Average Ecoder loss: 0.0058\n",
      "Validing\n"
     ]
    },
    {
     "name": "stderr",
     "output_type": "stream",
     "text": [
      "48it [00:06,  7.10it/s]\n",
      "1it [00:00, 124.90it/s]\n"
     ]
    },
    {
     "name": "stdout",
     "output_type": "stream",
     "text": [
      "Valid Epoch:12 ===> Average Decoder loss: -2.7105 Average Discriminator loss: 0.0797 Average Ecoder loss: 0.0324\n",
      "Testing\n",
      "Test Epoch:12 ===> Average Decoder loss: -2.8993 Average Discriminator loss: 3.7777 Average Ecoder loss: 0.0125\n",
      "L1 loss Calculation Train 1.4990863406658173 Valid 0.9263378779093424 Test 1.3933286666870117\n"
     ]
    },
    {
     "name": "stderr",
     "output_type": "stream",
     "text": [
      "5it [00:00, 40.43it/s]"
     ]
    },
    {
     "name": "stdout",
     "output_type": "stream",
     "text": [
      "Training\n"
     ]
    },
    {
     "name": "stderr",
     "output_type": "stream",
     "text": [
      "2400it [00:51, 46.19it/s]\n",
      "1it [00:00,  6.43it/s]"
     ]
    },
    {
     "name": "stdout",
     "output_type": "stream",
     "text": [
      "====> Epoch: 13 Average Decoder loss: -3.4465 Average Discriminator loss: 0.0016 Average Ecoder loss: 0.0063\n",
      "Validing\n"
     ]
    },
    {
     "name": "stderr",
     "output_type": "stream",
     "text": [
      "48it [00:06,  6.90it/s]\n",
      "1it [00:00, 125.32it/s]\n"
     ]
    },
    {
     "name": "stdout",
     "output_type": "stream",
     "text": [
      "Valid Epoch:13 ===> Average Decoder loss: -2.3937 Average Discriminator loss: 0.0793 Average Ecoder loss: 0.0618\n",
      "Testing\n",
      "Test Epoch:13 ===> Average Decoder loss: -2.4346 Average Discriminator loss: 3.7203 Average Ecoder loss: 0.0604\n",
      "L1 loss Calculation Train 9.482913142840067 Valid 8.440733015537262 Test 6.985928535461426\n"
     ]
    },
    {
     "name": "stderr",
     "output_type": "stream",
     "text": [
      "5it [00:00, 48.20it/s]"
     ]
    },
    {
     "name": "stdout",
     "output_type": "stream",
     "text": [
      "Training\n"
     ]
    },
    {
     "name": "stderr",
     "output_type": "stream",
     "text": [
      "2400it [00:43, 55.40it/s]\n",
      "1it [00:00,  6.27it/s]"
     ]
    },
    {
     "name": "stdout",
     "output_type": "stream",
     "text": [
      "====> Epoch: 14 Average Decoder loss: -3.4014 Average Discriminator loss: 0.0016 Average Ecoder loss: 0.0125\n",
      "Validing\n"
     ]
    },
    {
     "name": "stderr",
     "output_type": "stream",
     "text": [
      "48it [00:06,  7.14it/s]\n",
      "1it [00:00, 109.01it/s]\n"
     ]
    },
    {
     "name": "stdout",
     "output_type": "stream",
     "text": [
      "Valid Epoch:14 ===> Average Decoder loss: -2.3300 Average Discriminator loss: 0.0797 Average Ecoder loss: 0.0699\n",
      "Testing\n",
      "Test Epoch:14 ===> Average Decoder loss: -2.5607 Average Discriminator loss: 3.7358 Average Ecoder loss: 0.0453\n",
      "L1 loss Calculation Train 6.604704958200455 Valid 5.555901070435842 Test 4.66429328918457\n"
     ]
    },
    {
     "name": "stderr",
     "output_type": "stream",
     "text": [
      "5it [00:00, 40.43it/s]"
     ]
    },
    {
     "name": "stdout",
     "output_type": "stream",
     "text": [
      "Training\n"
     ]
    },
    {
     "name": "stderr",
     "output_type": "stream",
     "text": [
      "2400it [00:52, 46.13it/s]\n",
      "1it [00:00,  6.11it/s]"
     ]
    },
    {
     "name": "stdout",
     "output_type": "stream",
     "text": [
      "====> Epoch: 15 Average Decoder loss: -3.4603 Average Discriminator loss: 0.0016 Average Ecoder loss: 0.0051\n",
      "Validing\n"
     ]
    },
    {
     "name": "stderr",
     "output_type": "stream",
     "text": [
      "48it [00:07,  6.82it/s]\n",
      "1it [00:00, 124.75it/s]\n"
     ]
    },
    {
     "name": "stdout",
     "output_type": "stream",
     "text": [
      "Valid Epoch:15 ===> Average Decoder loss: -2.7960 Average Discriminator loss: 0.0796 Average Ecoder loss: 0.0223\n",
      "Testing\n",
      "Test Epoch:15 ===> Average Decoder loss: -3.0098 Average Discriminator loss: 3.7865 Average Ecoder loss: 0.0081\n",
      "L1 loss Calculation Train 4.249227220614751 Valid 3.813266634941101 Test 1.9913549423217773\n"
     ]
    },
    {
     "name": "stderr",
     "output_type": "stream",
     "text": [
      "5it [00:00, 48.67it/s]"
     ]
    },
    {
     "name": "stdout",
     "output_type": "stream",
     "text": [
      "Training\n"
     ]
    },
    {
     "name": "stderr",
     "output_type": "stream",
     "text": [
      "2400it [00:43, 55.38it/s]\n",
      "1it [00:00,  6.31it/s]"
     ]
    },
    {
     "name": "stdout",
     "output_type": "stream",
     "text": [
      "====> Epoch: 16 Average Decoder loss: -3.4966 Average Discriminator loss: 0.0016 Average Ecoder loss: 0.0027\n",
      "Validing\n"
     ]
    },
    {
     "name": "stderr",
     "output_type": "stream",
     "text": [
      "48it [00:06,  7.18it/s]\n",
      "1it [00:00, 125.53it/s]\n"
     ]
    },
    {
     "name": "stdout",
     "output_type": "stream",
     "text": [
      "Valid Epoch:16 ===> Average Decoder loss: -2.8233 Average Discriminator loss: 0.0797 Average Ecoder loss: 0.0220\n",
      "Testing\n",
      "Test Epoch:16 ===> Average Decoder loss: -3.0160 Average Discriminator loss: 3.7926 Average Ecoder loss: 0.0060\n",
      "L1 loss Calculation Train 4.7208487073580425 Valid 3.9761309027671814 Test 2.264073371887207\n"
     ]
    },
    {
     "name": "stderr",
     "output_type": "stream",
     "text": [
      "5it [00:00, 40.43it/s]"
     ]
    },
    {
     "name": "stdout",
     "output_type": "stream",
     "text": [
      "Training\n"
     ]
    },
    {
     "name": "stderr",
     "output_type": "stream",
     "text": [
      "2400it [00:52, 46.03it/s]\n",
      "1it [00:00,  6.08it/s]"
     ]
    },
    {
     "name": "stdout",
     "output_type": "stream",
     "text": [
      "====> Epoch: 17 Average Decoder loss: -3.4506 Average Discriminator loss: 0.0016 Average Ecoder loss: 0.0057\n",
      "Validing\n"
     ]
    },
    {
     "name": "stderr",
     "output_type": "stream",
     "text": [
      "48it [00:07,  6.84it/s]\n",
      "1it [00:00, 125.33it/s]\n"
     ]
    },
    {
     "name": "stdout",
     "output_type": "stream",
     "text": [
      "Valid Epoch:17 ===> Average Decoder loss: -2.6233 Average Discriminator loss: 0.0796 Average Ecoder loss: 0.0322\n",
      "Testing\n",
      "Test Epoch:17 ===> Average Decoder loss: -2.8796 Average Discriminator loss: 3.7780 Average Ecoder loss: 0.0126\n",
      "L1 loss Calculation Train 2.510084452231725 Valid 1.730082909266154 Test 0.3764057159423828\n"
     ]
    },
    {
     "name": "stderr",
     "output_type": "stream",
     "text": [
      "11it [00:00, 49.97it/s]"
     ]
    },
    {
     "name": "stdout",
     "output_type": "stream",
     "text": [
      "Training\n"
     ]
    },
    {
     "name": "stderr",
     "output_type": "stream",
     "text": [
      "2400it [00:43, 55.41it/s]\n",
      "1it [00:00,  6.39it/s]"
     ]
    },
    {
     "name": "stdout",
     "output_type": "stream",
     "text": [
      "====> Epoch: 18 Average Decoder loss: -3.4791 Average Discriminator loss: 0.0016 Average Ecoder loss: 0.0044\n",
      "Validing\n"
     ]
    },
    {
     "name": "stderr",
     "output_type": "stream",
     "text": [
      "48it [00:06,  7.10it/s]\n",
      "1it [00:00, 125.33it/s]\n"
     ]
    },
    {
     "name": "stdout",
     "output_type": "stream",
     "text": [
      "Valid Epoch:18 ===> Average Decoder loss: -2.8680 Average Discriminator loss: 0.0796 Average Ecoder loss: 0.0168\n",
      "Testing\n",
      "Test Epoch:18 ===> Average Decoder loss: -2.9245 Average Discriminator loss: 3.7780 Average Ecoder loss: 0.0126\n",
      "L1 loss Calculation Train 1.2283449518680571 Valid 1.7532338500022888 Test 3.67266845703125\n"
     ]
    },
    {
     "name": "stderr",
     "output_type": "stream",
     "text": [
      "5it [00:00, 42.50it/s]"
     ]
    },
    {
     "name": "stdout",
     "output_type": "stream",
     "text": [
      "Training\n"
     ]
    },
    {
     "name": "stderr",
     "output_type": "stream",
     "text": [
      "2400it [00:52, 46.13it/s]\n",
      "0it [00:00, ?it/s]"
     ]
    },
    {
     "name": "stdout",
     "output_type": "stream",
     "text": [
      "====> Epoch: 19 Average Decoder loss: -3.4267 Average Discriminator loss: 0.0016 Average Ecoder loss: 0.0075\n",
      "Validing\n"
     ]
    },
    {
     "name": "stderr",
     "output_type": "stream",
     "text": [
      "48it [00:07,  6.78it/s]\n",
      "1it [00:00, 124.89it/s]\n"
     ]
    },
    {
     "name": "stdout",
     "output_type": "stream",
     "text": [
      "Valid Epoch:19 ===> Average Decoder loss: -2.4350 Average Discriminator loss: 0.0797 Average Ecoder loss: 0.0549\n",
      "Testing\n",
      "Test Epoch:19 ===> Average Decoder loss: -2.0217 Average Discriminator loss: 3.6888 Average Ecoder loss: 0.1040\n",
      "L1 loss Calculation Train 2.0569740959008533 Valid 1.3033339778582256 Test 0.6669883728027344\n"
     ]
    },
    {
     "name": "stderr",
     "output_type": "stream",
     "text": [
      "5it [00:00, 48.21it/s]"
     ]
    },
    {
     "name": "stdout",
     "output_type": "stream",
     "text": [
      "Training\n"
     ]
    },
    {
     "name": "stderr",
     "output_type": "stream",
     "text": [
      "2400it [00:43, 55.35it/s]\n",
      "1it [00:00,  6.04it/s]"
     ]
    },
    {
     "name": "stdout",
     "output_type": "stream",
     "text": [
      "====> Epoch: 20 Average Decoder loss: -3.3152 Average Discriminator loss: 0.0016 Average Ecoder loss: 0.0208\n",
      "Validing\n"
     ]
    },
    {
     "name": "stderr",
     "output_type": "stream",
     "text": [
      "48it [00:06,  7.09it/s]\n",
      "1it [00:00, 125.29it/s]\n"
     ]
    },
    {
     "name": "stdout",
     "output_type": "stream",
     "text": [
      "Valid Epoch:20 ===> Average Decoder loss: -2.6554 Average Discriminator loss: 0.0798 Average Ecoder loss: 0.0374\n",
      "Testing\n",
      "Test Epoch:20 ===> Average Decoder loss: -2.0057 Average Discriminator loss: 3.6925 Average Ecoder loss: 0.0982\n",
      "L1 loss Calculation Train 2.5971640769640603 Valid 1.6753139893213909 Test 0.3539314270019531\n"
     ]
    },
    {
     "name": "stderr",
     "output_type": "stream",
     "text": [
      "5it [00:00, 42.86it/s]"
     ]
    },
    {
     "name": "stdout",
     "output_type": "stream",
     "text": [
      "Training\n"
     ]
    },
    {
     "name": "stderr",
     "output_type": "stream",
     "text": [
      "2400it [00:51, 46.18it/s]\n",
      "1it [00:00,  6.04it/s]"
     ]
    },
    {
     "name": "stdout",
     "output_type": "stream",
     "text": [
      "====> Epoch: 21 Average Decoder loss: -3.4315 Average Discriminator loss: 0.0016 Average Ecoder loss: 0.0070\n",
      "Validing\n"
     ]
    },
    {
     "name": "stderr",
     "output_type": "stream",
     "text": [
      "48it [00:06,  6.89it/s]\n",
      "1it [00:00, 125.34it/s]\n"
     ]
    },
    {
     "name": "stdout",
     "output_type": "stream",
     "text": [
      "Valid Epoch:21 ===> Average Decoder loss: -2.6098 Average Discriminator loss: 0.0796 Average Ecoder loss: 0.0424\n",
      "Testing\n",
      "Test Epoch:21 ===> Average Decoder loss: -3.0907 Average Discriminator loss: 3.8086 Average Ecoder loss: 0.0047\n",
      "L1 loss Calculation Train 6.976537477572759 Valid 5.964634120464325 Test 3.9600868225097656\n"
     ]
    },
    {
     "name": "stderr",
     "output_type": "stream",
     "text": [
      "6it [00:00, 50.98it/s]"
     ]
    },
    {
     "name": "stdout",
     "output_type": "stream",
     "text": [
      "Training\n"
     ]
    },
    {
     "name": "stderr",
     "output_type": "stream",
     "text": [
      "2400it [00:43, 55.54it/s]\n",
      "1it [00:00,  6.31it/s]"
     ]
    },
    {
     "name": "stdout",
     "output_type": "stream",
     "text": [
      "====> Epoch: 22 Average Decoder loss: -3.4642 Average Discriminator loss: 0.0016 Average Ecoder loss: 0.0058\n",
      "Validing\n"
     ]
    },
    {
     "name": "stderr",
     "output_type": "stream",
     "text": [
      "48it [00:06,  7.09it/s]\n",
      "1it [00:00, 124.85it/s]\n"
     ]
    },
    {
     "name": "stdout",
     "output_type": "stream",
     "text": [
      "Valid Epoch:22 ===> Average Decoder loss: -2.6084 Average Discriminator loss: 0.0797 Average Ecoder loss: 0.0416\n",
      "Testing\n",
      "Test Epoch:22 ===> Average Decoder loss: -3.0773 Average Discriminator loss: 3.8125 Average Ecoder loss: 0.0044\n",
      "L1 loss Calculation Train 6.965708949168524 Valid 5.769018193085988 Test 4.692560195922852\n"
     ]
    },
    {
     "name": "stderr",
     "output_type": "stream",
     "text": [
      "4it [00:00, 38.94it/s]"
     ]
    },
    {
     "name": "stdout",
     "output_type": "stream",
     "text": [
      "Training\n"
     ]
    },
    {
     "name": "stderr",
     "output_type": "stream",
     "text": [
      "2400it [00:51, 46.19it/s]\n",
      "1it [00:00,  5.70it/s]"
     ]
    },
    {
     "name": "stdout",
     "output_type": "stream",
     "text": [
      "====> Epoch: 23 Average Decoder loss: -3.4112 Average Discriminator loss: 0.0016 Average Ecoder loss: 0.0090\n",
      "Validing\n"
     ]
    },
    {
     "name": "stderr",
     "output_type": "stream",
     "text": [
      "48it [00:07,  6.77it/s]\n",
      "1it [00:00, 111.41it/s]\n"
     ]
    },
    {
     "name": "stdout",
     "output_type": "stream",
     "text": [
      "Valid Epoch:23 ===> Average Decoder loss: -2.8160 Average Discriminator loss: 0.0796 Average Ecoder loss: 0.0179\n",
      "Testing\n",
      "Test Epoch:23 ===> Average Decoder loss: -2.9842 Average Discriminator loss: 3.8834 Average Ecoder loss: 0.0250\n",
      "L1 loss Calculation Train 3.7217194012800854 Valid 3.038308262825012 Test 1.6867237091064453\n"
     ]
    },
    {
     "name": "stderr",
     "output_type": "stream",
     "text": [
      "5it [00:00, 48.21it/s]"
     ]
    },
    {
     "name": "stdout",
     "output_type": "stream",
     "text": [
      "Training\n"
     ]
    },
    {
     "name": "stderr",
     "output_type": "stream",
     "text": [
      "2400it [00:43, 55.41it/s]\n",
      "1it [00:00,  5.76it/s]"
     ]
    },
    {
     "name": "stdout",
     "output_type": "stream",
     "text": [
      "====> Epoch: 24 Average Decoder loss: -3.4767 Average Discriminator loss: 0.0016 Average Ecoder loss: 0.0047\n",
      "Validing\n"
     ]
    },
    {
     "name": "stderr",
     "output_type": "stream",
     "text": [
      "48it [00:06,  7.11it/s]\n",
      "1it [00:00, 111.40it/s]\n"
     ]
    },
    {
     "name": "stdout",
     "output_type": "stream",
     "text": [
      "Valid Epoch:24 ===> Average Decoder loss: -2.7953 Average Discriminator loss: 0.0798 Average Ecoder loss: 0.0205\n",
      "Testing\n",
      "Test Epoch:24 ===> Average Decoder loss: -2.9404 Average Discriminator loss: 3.8895 Average Ecoder loss: 0.0295\n",
      "L1 loss Calculation Train 5.899504415591558 Valid 4.936508099238078 Test 3.435103416442871\n"
     ]
    },
    {
     "name": "stderr",
     "output_type": "stream",
     "text": [
      "5it [00:00, 43.23it/s]"
     ]
    },
    {
     "name": "stdout",
     "output_type": "stream",
     "text": [
      "Training\n"
     ]
    },
    {
     "name": "stderr",
     "output_type": "stream",
     "text": [
      "2400it [00:52, 46.15it/s]\n",
      "1it [00:00,  5.80it/s]"
     ]
    },
    {
     "name": "stdout",
     "output_type": "stream",
     "text": [
      "====> Epoch: 25 Average Decoder loss: -3.3911 Average Discriminator loss: 0.0016 Average Ecoder loss: 0.0103\n",
      "Validing\n"
     ]
    },
    {
     "name": "stderr",
     "output_type": "stream",
     "text": [
      "48it [00:06,  6.89it/s]\n",
      "1it [00:00, 125.35it/s]\n"
     ]
    },
    {
     "name": "stdout",
     "output_type": "stream",
     "text": [
      "Valid Epoch:25 ===> Average Decoder loss: -2.6751 Average Discriminator loss: 0.0795 Average Ecoder loss: 0.0303\n",
      "Testing\n",
      "Test Epoch:25 ===> Average Decoder loss: -2.7784 Average Discriminator loss: 3.9081 Average Ecoder loss: 0.0493\n",
      "L1 loss Calculation Train 5.717988843917847 Valid 4.479456106821696 Test 3.2786359786987305\n"
     ]
    },
    {
     "name": "stderr",
     "output_type": "stream",
     "text": [
      "5it [00:00, 49.16it/s]"
     ]
    },
    {
     "name": "stdout",
     "output_type": "stream",
     "text": [
      "Training\n"
     ]
    },
    {
     "name": "stderr",
     "output_type": "stream",
     "text": [
      "2400it [00:43, 55.41it/s]\n",
      "1it [00:00,  6.39it/s]"
     ]
    },
    {
     "name": "stdout",
     "output_type": "stream",
     "text": [
      "====> Epoch: 26 Average Decoder loss: -3.4702 Average Discriminator loss: 0.0016 Average Ecoder loss: 0.0057\n",
      "Validing\n"
     ]
    },
    {
     "name": "stderr",
     "output_type": "stream",
     "text": [
      "48it [00:06,  7.11it/s]\n",
      "1it [00:00, 111.45it/s]\n"
     ]
    },
    {
     "name": "stdout",
     "output_type": "stream",
     "text": [
      "Valid Epoch:26 ===> Average Decoder loss: -2.3824 Average Discriminator loss: 0.0796 Average Ecoder loss: 0.0573\n",
      "Testing\n",
      "Test Epoch:26 ===> Average Decoder loss: -2.7853 Average Discriminator loss: 3.9072 Average Ecoder loss: 0.0479\n",
      "L1 loss Calculation Train 5.047271614869436 Valid 3.9160514871279397 Test 2.8173351287841797\n"
     ]
    },
    {
     "name": "stderr",
     "output_type": "stream",
     "text": [
      "5it [00:00, 41.78it/s]"
     ]
    },
    {
     "name": "stdout",
     "output_type": "stream",
     "text": [
      "Training\n"
     ]
    },
    {
     "name": "stderr",
     "output_type": "stream",
     "text": [
      "2400it [00:52, 45.87it/s]\n",
      "1it [00:00,  5.83it/s]"
     ]
    },
    {
     "name": "stdout",
     "output_type": "stream",
     "text": [
      "====> Epoch: 27 Average Decoder loss: -3.3405 Average Discriminator loss: 0.0016 Average Ecoder loss: 0.0159\n",
      "Validing\n"
     ]
    },
    {
     "name": "stderr",
     "output_type": "stream",
     "text": [
      "48it [00:07,  6.84it/s]\n",
      "1it [00:00, 111.05it/s]\n"
     ]
    },
    {
     "name": "stdout",
     "output_type": "stream",
     "text": [
      "Valid Epoch:27 ===> Average Decoder loss: -1.4873 Average Discriminator loss: 0.0795 Average Ecoder loss: 0.1476\n",
      "Testing\n",
      "Test Epoch:27 ===> Average Decoder loss: -1.9482 Average Discriminator loss: 3.9761 Average Ecoder loss: 0.1382\n",
      "L1 loss Calculation Train 2.7655722721417746 Valid 1.6120397845904033 Test 0.21373939514160156\n"
     ]
    },
    {
     "name": "stderr",
     "output_type": "stream",
     "text": [
      "6it [00:00, 51.86it/s]"
     ]
    },
    {
     "name": "stdout",
     "output_type": "stream",
     "text": [
      "Training\n"
     ]
    },
    {
     "name": "stderr",
     "output_type": "stream",
     "text": [
      "2400it [00:43, 55.43it/s]\n",
      "1it [00:00,  5.90it/s]"
     ]
    },
    {
     "name": "stdout",
     "output_type": "stream",
     "text": [
      "====> Epoch: 28 Average Decoder loss: -3.4140 Average Discriminator loss: 0.0016 Average Ecoder loss: 0.0108\n",
      "Validing\n"
     ]
    },
    {
     "name": "stderr",
     "output_type": "stream",
     "text": [
      "48it [00:06,  7.05it/s]\n",
      "1it [00:00, 125.30it/s]\n"
     ]
    },
    {
     "name": "stdout",
     "output_type": "stream",
     "text": [
      "Valid Epoch:28 ===> Average Decoder loss: -1.4433 Average Discriminator loss: 0.0798 Average Ecoder loss: 0.1549\n",
      "Testing\n",
      "Test Epoch:28 ===> Average Decoder loss: -1.8526 Average Discriminator loss: 3.9846 Average Ecoder loss: 0.1525\n",
      "L1 loss Calculation Train 2.2002598186333975 Valid 1.6994919180870056 Test 0.08768749237060547\n"
     ]
    },
    {
     "name": "stderr",
     "output_type": "stream",
     "text": [
      "5it [00:00, 43.22it/s]"
     ]
    },
    {
     "name": "stdout",
     "output_type": "stream",
     "text": [
      "Training\n"
     ]
    },
    {
     "name": "stderr",
     "output_type": "stream",
     "text": [
      "2400it [00:52, 45.98it/s]\n",
      "1it [00:00,  5.85it/s]"
     ]
    },
    {
     "name": "stdout",
     "output_type": "stream",
     "text": [
      "====> Epoch: 29 Average Decoder loss: -3.3307 Average Discriminator loss: 0.0016 Average Ecoder loss: 0.0168\n",
      "Validing\n"
     ]
    },
    {
     "name": "stderr",
     "output_type": "stream",
     "text": [
      "48it [00:07,  6.80it/s]\n",
      "1it [00:00, 111.41it/s]\n"
     ]
    },
    {
     "name": "stdout",
     "output_type": "stream",
     "text": [
      "Valid Epoch:29 ===> Average Decoder loss: -2.7022 Average Discriminator loss: 0.0793 Average Ecoder loss: 0.0254\n",
      "Testing\n",
      "Test Epoch:29 ===> Average Decoder loss: -3.1145 Average Discriminator loss: 3.8394 Average Ecoder loss: 0.0092\n",
      "L1 loss Calculation Train 4.214754862785339 Valid 3.3534953594207764 Test 1.9592456817626953\n"
     ]
    },
    {
     "name": "stderr",
     "output_type": "stream",
     "text": [
      "5it [00:00, 49.64it/s]"
     ]
    },
    {
     "name": "stdout",
     "output_type": "stream",
     "text": [
      "Training\n"
     ]
    },
    {
     "name": "stderr",
     "output_type": "stream",
     "text": [
      "2400it [00:43, 55.44it/s]\n",
      "1it [00:00,  6.55it/s]"
     ]
    },
    {
     "name": "stdout",
     "output_type": "stream",
     "text": [
      "====> Epoch: 30 Average Decoder loss: -3.4763 Average Discriminator loss: 0.0016 Average Ecoder loss: 0.0047\n",
      "Validing\n"
     ]
    },
    {
     "name": "stderr",
     "output_type": "stream",
     "text": [
      "48it [00:06,  7.19it/s]\n",
      "1it [00:00, 111.06it/s]\n"
     ]
    },
    {
     "name": "stdout",
     "output_type": "stream",
     "text": [
      "Valid Epoch:30 ===> Average Decoder loss: -2.3955 Average Discriminator loss: 0.0798 Average Ecoder loss: 0.0579\n",
      "Testing\n",
      "Test Epoch:30 ===> Average Decoder loss: -3.0873 Average Discriminator loss: 3.8557 Average Ecoder loss: 0.0143\n",
      "L1 loss Calculation Train 1.926184011697769 Valid 1.503666083017985 Test 0.3339691162109375\n"
     ]
    },
    {
     "name": "stderr",
     "output_type": "stream",
     "text": [
      "5it [00:00, 41.78it/s]"
     ]
    },
    {
     "name": "stdout",
     "output_type": "stream",
     "text": [
      "Training\n"
     ]
    },
    {
     "name": "stderr",
     "output_type": "stream",
     "text": [
      "2400it [00:52, 46.14it/s]\n",
      "1it [00:00,  6.15it/s]"
     ]
    },
    {
     "name": "stdout",
     "output_type": "stream",
     "text": [
      "====> Epoch: 31 Average Decoder loss: -3.3146 Average Discriminator loss: 0.0016 Average Ecoder loss: 0.0188\n",
      "Validing\n"
     ]
    },
    {
     "name": "stderr",
     "output_type": "stream",
     "text": [
      "48it [00:06,  6.96it/s]\n",
      "1it [00:00, 125.78it/s]\n"
     ]
    },
    {
     "name": "stdout",
     "output_type": "stream",
     "text": [
      "Valid Epoch:31 ===> Average Decoder loss: -2.7693 Average Discriminator loss: 0.0796 Average Ecoder loss: 0.0205\n",
      "Testing\n",
      "Test Epoch:31 ===> Average Decoder loss: -3.1291 Average Discriminator loss: 3.8216 Average Ecoder loss: 0.0009\n",
      "L1 loss Calculation Train 4.899861218929291 Valid 4.39816427230835 Test 2.684164047241211\n"
     ]
    },
    {
     "name": "stderr",
     "output_type": "stream",
     "text": [
      "5it [00:00, 49.15it/s]"
     ]
    },
    {
     "name": "stdout",
     "output_type": "stream",
     "text": [
      "Training\n"
     ]
    },
    {
     "name": "stderr",
     "output_type": "stream",
     "text": [
      "2400it [00:43, 55.43it/s]\n",
      "1it [00:00,  6.08it/s]"
     ]
    },
    {
     "name": "stdout",
     "output_type": "stream",
     "text": [
      "====> Epoch: 32 Average Decoder loss: -3.4139 Average Discriminator loss: 0.0016 Average Ecoder loss: 0.0109\n",
      "Validing\n"
     ]
    },
    {
     "name": "stderr",
     "output_type": "stream",
     "text": [
      "48it [00:06,  7.13it/s]\n",
      "1it [00:00, 125.44it/s]\n"
     ]
    },
    {
     "name": "stdout",
     "output_type": "stream",
     "text": [
      "Valid Epoch:32 ===> Average Decoder loss: -2.7480 Average Discriminator loss: 0.0798 Average Ecoder loss: 0.0231\n",
      "Testing\n",
      "Test Epoch:32 ===> Average Decoder loss: -3.2195 Average Discriminator loss: 3.8275 Average Ecoder loss: 0.0012\n",
      "L1 loss Calculation Train 5.791633672714234 Valid 4.494854927062988 Test 3.823489189147949\n"
     ]
    },
    {
     "name": "stderr",
     "output_type": "stream",
     "text": [
      "5it [00:00, 41.79it/s]"
     ]
    },
    {
     "name": "stdout",
     "output_type": "stream",
     "text": [
      "Training\n"
     ]
    },
    {
     "name": "stderr",
     "output_type": "stream",
     "text": [
      "2400it [00:52, 46.10it/s]\n",
      "1it [00:00,  6.51it/s]"
     ]
    },
    {
     "name": "stdout",
     "output_type": "stream",
     "text": [
      "====> Epoch: 33 Average Decoder loss: -3.3642 Average Discriminator loss: 0.0016 Average Ecoder loss: 0.0125\n",
      "Validing\n"
     ]
    },
    {
     "name": "stderr",
     "output_type": "stream",
     "text": [
      "48it [00:06,  6.89it/s]\n",
      "1it [00:00, 124.90it/s]\n"
     ]
    },
    {
     "name": "stdout",
     "output_type": "stream",
     "text": [
      "Valid Epoch:33 ===> Average Decoder loss: -2.4002 Average Discriminator loss: 0.0796 Average Ecoder loss: 0.0451\n",
      "Testing\n",
      "Test Epoch:33 ===> Average Decoder loss: -1.7757 Average Discriminator loss: 3.9841 Average Ecoder loss: 0.1416\n",
      "L1 loss Calculation Train 1.5970735991001128 Valid 1.2735089262326558 Test 1.2868614196777344\n"
     ]
    },
    {
     "name": "stderr",
     "output_type": "stream",
     "text": [
      "5it [00:00, 49.65it/s]"
     ]
    },
    {
     "name": "stdout",
     "output_type": "stream",
     "text": [
      "Training\n"
     ]
    },
    {
     "name": "stderr",
     "output_type": "stream",
     "text": [
      "2400it [00:43, 55.33it/s]\n",
      "0it [00:00, ?it/s]"
     ]
    },
    {
     "name": "stdout",
     "output_type": "stream",
     "text": [
      "====> Epoch: 34 Average Decoder loss: -3.4261 Average Discriminator loss: 0.0016 Average Ecoder loss: 0.0112\n",
      "Validing\n"
     ]
    },
    {
     "name": "stderr",
     "output_type": "stream",
     "text": [
      "0it [00:00, ?it/s]\n"
     ]
    },
    {
     "ename": "RuntimeError",
     "evalue": "CUDA out of memory. Tried to allocate 20.00 MiB (GPU 0; 8.00 GiB total capacity; 6.43 GiB already allocated; 3.00 MiB free; 6.46 GiB reserved in total by PyTorch)",
     "output_type": "error",
     "traceback": [
      "\u001b[1;31m---------------------------------------------------------------------------\u001b[0m",
      "\u001b[1;31mRuntimeError\u001b[0m                              Traceback (most recent call last)",
      "\u001b[1;32m<ipython-input-18-8808ef78b415>\u001b[0m in \u001b[0;36m<module>\u001b[1;34m\u001b[0m\n\u001b[0;32m     11\u001b[0m     \u001b[1;31m#Validing\u001b[0m\u001b[1;33m\u001b[0m\u001b[1;33m\u001b[0m\u001b[1;33m\u001b[0m\u001b[0m\n\u001b[0;32m     12\u001b[0m     \u001b[0mprint\u001b[0m\u001b[1;33m(\u001b[0m\u001b[1;34m'Validing'\u001b[0m\u001b[1;33m)\u001b[0m\u001b[1;33m\u001b[0m\u001b[1;33m\u001b[0m\u001b[0m\n\u001b[1;32m---> 13\u001b[1;33m     \u001b[0mvalid_dec_loss\u001b[0m\u001b[1;33m,\u001b[0m\u001b[0mvalid_dis_loss\u001b[0m\u001b[1;33m,\u001b[0m\u001b[0mvalid_enc_loss\u001b[0m\u001b[1;33m,\u001b[0m\u001b[0m_\u001b[0m \u001b[1;33m=\u001b[0m \u001b[0mmodel_process\u001b[0m\u001b[1;33m(\u001b[0m\u001b[1;34m'train'\u001b[0m\u001b[1;33m,\u001b[0m\u001b[0mvalid_loader\u001b[0m\u001b[1;33m,\u001b[0m\u001b[0mepoch\u001b[0m\u001b[1;33m)\u001b[0m\u001b[1;33m\u001b[0m\u001b[1;33m\u001b[0m\u001b[0m\n\u001b[0m\u001b[0;32m     14\u001b[0m     print('Valid Epoch:{} ===> Average Decoder loss: {:.4f} Average Discriminator loss: {:.4f} Average Ecoder loss: {:.4f}'.format(epoch+1,\n\u001b[0;32m     15\u001b[0m           valid_dec_loss / len(valid_loader),valid_dis_loss / len(valid_loader),valid_enc_loss / len(valid_loader)))\n",
      "\u001b[1;32m<ipython-input-17-6cdc58722cfb>\u001b[0m in \u001b[0;36mmodel_process\u001b[1;34m(mode, dataloader, epoch)\u001b[0m\n\u001b[0;32m     47\u001b[0m         \u001b[0mpredicts\u001b[0m \u001b[1;33m=\u001b[0m \u001b[0mdecoder\u001b[0m\u001b[1;33m(\u001b[0m\u001b[0mz\u001b[0m\u001b[1;33m)\u001b[0m\u001b[1;33m\u001b[0m\u001b[1;33m\u001b[0m\u001b[0m\n\u001b[0;32m     48\u001b[0m         \u001b[0mpredicts_p\u001b[0m \u001b[1;33m=\u001b[0m \u001b[0mdecoder\u001b[0m\u001b[1;33m(\u001b[0m\u001b[0mz_p\u001b[0m\u001b[1;33m)\u001b[0m\u001b[1;33m\u001b[0m\u001b[1;33m\u001b[0m\u001b[0m\n\u001b[1;32m---> 49\u001b[1;33m         \u001b[0mX_sim\u001b[0m \u001b[1;33m=\u001b[0m \u001b[0mdiscriminator\u001b[0m\u001b[1;33m.\u001b[0m\u001b[0msimilarity\u001b[0m\u001b[1;33m(\u001b[0m\u001b[0mpredicts\u001b[0m\u001b[1;33m)\u001b[0m\u001b[1;33m\u001b[0m\u001b[1;33m\u001b[0m\u001b[0m\n\u001b[0m\u001b[0;32m     50\u001b[0m         \u001b[0mX_data\u001b[0m \u001b[1;33m=\u001b[0m \u001b[0mdiscriminator\u001b[0m\u001b[1;33m.\u001b[0m\u001b[0msimilarity\u001b[0m\u001b[1;33m(\u001b[0m\u001b[0mground_truth\u001b[0m\u001b[1;33m)\u001b[0m\u001b[1;33m\u001b[0m\u001b[1;33m\u001b[0m\u001b[0m\n\u001b[0;32m     51\u001b[0m         \u001b[0mrec_loss\u001b[0m \u001b[1;33m=\u001b[0m \u001b[1;33m(\u001b[0m\u001b[1;33m(\u001b[0m\u001b[0mX_sim\u001b[0m \u001b[1;33m-\u001b[0m \u001b[0mX_data\u001b[0m\u001b[1;33m)\u001b[0m \u001b[1;33m**\u001b[0m \u001b[1;36m2\u001b[0m\u001b[1;33m)\u001b[0m\u001b[1;33m.\u001b[0m\u001b[0mmean\u001b[0m\u001b[1;33m(\u001b[0m\u001b[1;33m)\u001b[0m\u001b[1;33m\u001b[0m\u001b[1;33m\u001b[0m\u001b[0m\n",
      "\u001b[1;32m<ipython-input-2-1c45b03d9d36>\u001b[0m in \u001b[0;36msimilarity\u001b[1;34m(self, x)\u001b[0m\n\u001b[0;32m     93\u001b[0m     \u001b[1;32mdef\u001b[0m \u001b[0msimilarity\u001b[0m\u001b[1;33m(\u001b[0m\u001b[0mself\u001b[0m\u001b[1;33m,\u001b[0m \u001b[0mx\u001b[0m\u001b[1;33m)\u001b[0m\u001b[1;33m:\u001b[0m\u001b[1;33m\u001b[0m\u001b[1;33m\u001b[0m\u001b[0m\n\u001b[0;32m     94\u001b[0m         \u001b[0mx\u001b[0m \u001b[1;33m=\u001b[0m \u001b[0mx\u001b[0m\u001b[1;33m.\u001b[0m\u001b[0mview\u001b[0m\u001b[1;33m(\u001b[0m\u001b[1;33m-\u001b[0m\u001b[1;36m1\u001b[0m\u001b[1;33m,\u001b[0m\u001b[1;36m12\u001b[0m\u001b[1;33m)\u001b[0m\u001b[1;33m\u001b[0m\u001b[1;33m\u001b[0m\u001b[0m\n\u001b[1;32m---> 95\u001b[1;33m         \u001b[0mh\u001b[0m \u001b[1;33m=\u001b[0m \u001b[0mself\u001b[0m\u001b[1;33m.\u001b[0m\u001b[0mdiscriminator\u001b[0m\u001b[1;33m(\u001b[0m\u001b[0mx\u001b[0m\u001b[1;33m)\u001b[0m\u001b[1;33m\u001b[0m\u001b[1;33m\u001b[0m\u001b[0m\n\u001b[0m\u001b[0;32m     96\u001b[0m         \u001b[1;32mreturn\u001b[0m \u001b[0mh\u001b[0m\u001b[1;33m\u001b[0m\u001b[1;33m\u001b[0m\u001b[0m\n",
      "\u001b[1;32mF:\\ProgramData\\Anaconda3\\lib\\site-packages\\torch\\nn\\modules\\module.py\u001b[0m in \u001b[0;36m_call_impl\u001b[1;34m(self, *input, **kwargs)\u001b[0m\n\u001b[0;32m    725\u001b[0m             \u001b[0mresult\u001b[0m \u001b[1;33m=\u001b[0m \u001b[0mself\u001b[0m\u001b[1;33m.\u001b[0m\u001b[0m_slow_forward\u001b[0m\u001b[1;33m(\u001b[0m\u001b[1;33m*\u001b[0m\u001b[0minput\u001b[0m\u001b[1;33m,\u001b[0m \u001b[1;33m**\u001b[0m\u001b[0mkwargs\u001b[0m\u001b[1;33m)\u001b[0m\u001b[1;33m\u001b[0m\u001b[1;33m\u001b[0m\u001b[0m\n\u001b[0;32m    726\u001b[0m         \u001b[1;32melse\u001b[0m\u001b[1;33m:\u001b[0m\u001b[1;33m\u001b[0m\u001b[1;33m\u001b[0m\u001b[0m\n\u001b[1;32m--> 727\u001b[1;33m             \u001b[0mresult\u001b[0m \u001b[1;33m=\u001b[0m \u001b[0mself\u001b[0m\u001b[1;33m.\u001b[0m\u001b[0mforward\u001b[0m\u001b[1;33m(\u001b[0m\u001b[1;33m*\u001b[0m\u001b[0minput\u001b[0m\u001b[1;33m,\u001b[0m \u001b[1;33m**\u001b[0m\u001b[0mkwargs\u001b[0m\u001b[1;33m)\u001b[0m\u001b[1;33m\u001b[0m\u001b[1;33m\u001b[0m\u001b[0m\n\u001b[0m\u001b[0;32m    728\u001b[0m         for hook in itertools.chain(\n\u001b[0;32m    729\u001b[0m                 \u001b[0m_global_forward_hooks\u001b[0m\u001b[1;33m.\u001b[0m\u001b[0mvalues\u001b[0m\u001b[1;33m(\u001b[0m\u001b[1;33m)\u001b[0m\u001b[1;33m,\u001b[0m\u001b[1;33m\u001b[0m\u001b[1;33m\u001b[0m\u001b[0m\n",
      "\u001b[1;32mF:\\ProgramData\\Anaconda3\\lib\\site-packages\\torch\\nn\\modules\\container.py\u001b[0m in \u001b[0;36mforward\u001b[1;34m(self, input)\u001b[0m\n\u001b[0;32m    115\u001b[0m     \u001b[1;32mdef\u001b[0m \u001b[0mforward\u001b[0m\u001b[1;33m(\u001b[0m\u001b[0mself\u001b[0m\u001b[1;33m,\u001b[0m \u001b[0minput\u001b[0m\u001b[1;33m)\u001b[0m\u001b[1;33m:\u001b[0m\u001b[1;33m\u001b[0m\u001b[1;33m\u001b[0m\u001b[0m\n\u001b[0;32m    116\u001b[0m         \u001b[1;32mfor\u001b[0m \u001b[0mmodule\u001b[0m \u001b[1;32min\u001b[0m \u001b[0mself\u001b[0m\u001b[1;33m:\u001b[0m\u001b[1;33m\u001b[0m\u001b[1;33m\u001b[0m\u001b[0m\n\u001b[1;32m--> 117\u001b[1;33m             \u001b[0minput\u001b[0m \u001b[1;33m=\u001b[0m \u001b[0mmodule\u001b[0m\u001b[1;33m(\u001b[0m\u001b[0minput\u001b[0m\u001b[1;33m)\u001b[0m\u001b[1;33m\u001b[0m\u001b[1;33m\u001b[0m\u001b[0m\n\u001b[0m\u001b[0;32m    118\u001b[0m         \u001b[1;32mreturn\u001b[0m \u001b[0minput\u001b[0m\u001b[1;33m\u001b[0m\u001b[1;33m\u001b[0m\u001b[0m\n\u001b[0;32m    119\u001b[0m \u001b[1;33m\u001b[0m\u001b[0m\n",
      "\u001b[1;32mF:\\ProgramData\\Anaconda3\\lib\\site-packages\\torch\\nn\\modules\\module.py\u001b[0m in \u001b[0;36m_call_impl\u001b[1;34m(self, *input, **kwargs)\u001b[0m\n\u001b[0;32m    725\u001b[0m             \u001b[0mresult\u001b[0m \u001b[1;33m=\u001b[0m \u001b[0mself\u001b[0m\u001b[1;33m.\u001b[0m\u001b[0m_slow_forward\u001b[0m\u001b[1;33m(\u001b[0m\u001b[1;33m*\u001b[0m\u001b[0minput\u001b[0m\u001b[1;33m,\u001b[0m \u001b[1;33m**\u001b[0m\u001b[0mkwargs\u001b[0m\u001b[1;33m)\u001b[0m\u001b[1;33m\u001b[0m\u001b[1;33m\u001b[0m\u001b[0m\n\u001b[0;32m    726\u001b[0m         \u001b[1;32melse\u001b[0m\u001b[1;33m:\u001b[0m\u001b[1;33m\u001b[0m\u001b[1;33m\u001b[0m\u001b[0m\n\u001b[1;32m--> 727\u001b[1;33m             \u001b[0mresult\u001b[0m \u001b[1;33m=\u001b[0m \u001b[0mself\u001b[0m\u001b[1;33m.\u001b[0m\u001b[0mforward\u001b[0m\u001b[1;33m(\u001b[0m\u001b[1;33m*\u001b[0m\u001b[0minput\u001b[0m\u001b[1;33m,\u001b[0m \u001b[1;33m**\u001b[0m\u001b[0mkwargs\u001b[0m\u001b[1;33m)\u001b[0m\u001b[1;33m\u001b[0m\u001b[1;33m\u001b[0m\u001b[0m\n\u001b[0m\u001b[0;32m    728\u001b[0m         for hook in itertools.chain(\n\u001b[0;32m    729\u001b[0m                 \u001b[0m_global_forward_hooks\u001b[0m\u001b[1;33m.\u001b[0m\u001b[0mvalues\u001b[0m\u001b[1;33m(\u001b[0m\u001b[1;33m)\u001b[0m\u001b[1;33m,\u001b[0m\u001b[1;33m\u001b[0m\u001b[1;33m\u001b[0m\u001b[0m\n",
      "\u001b[1;32mF:\\ProgramData\\Anaconda3\\lib\\site-packages\\torch\\nn\\modules\\activation.py\u001b[0m in \u001b[0;36mforward\u001b[1;34m(self, input)\u001b[0m\n\u001b[0;32m    712\u001b[0m \u001b[1;33m\u001b[0m\u001b[0m\n\u001b[0;32m    713\u001b[0m     \u001b[1;32mdef\u001b[0m \u001b[0mforward\u001b[0m\u001b[1;33m(\u001b[0m\u001b[0mself\u001b[0m\u001b[1;33m,\u001b[0m \u001b[0minput\u001b[0m\u001b[1;33m:\u001b[0m \u001b[0mTensor\u001b[0m\u001b[1;33m)\u001b[0m \u001b[1;33m->\u001b[0m \u001b[0mTensor\u001b[0m\u001b[1;33m:\u001b[0m\u001b[1;33m\u001b[0m\u001b[1;33m\u001b[0m\u001b[0m\n\u001b[1;32m--> 714\u001b[1;33m         \u001b[1;32mreturn\u001b[0m \u001b[0mF\u001b[0m\u001b[1;33m.\u001b[0m\u001b[0mleaky_relu\u001b[0m\u001b[1;33m(\u001b[0m\u001b[0minput\u001b[0m\u001b[1;33m,\u001b[0m \u001b[0mself\u001b[0m\u001b[1;33m.\u001b[0m\u001b[0mnegative_slope\u001b[0m\u001b[1;33m,\u001b[0m \u001b[0mself\u001b[0m\u001b[1;33m.\u001b[0m\u001b[0minplace\u001b[0m\u001b[1;33m)\u001b[0m\u001b[1;33m\u001b[0m\u001b[1;33m\u001b[0m\u001b[0m\n\u001b[0m\u001b[0;32m    715\u001b[0m \u001b[1;33m\u001b[0m\u001b[0m\n\u001b[0;32m    716\u001b[0m     \u001b[1;32mdef\u001b[0m \u001b[0mextra_repr\u001b[0m\u001b[1;33m(\u001b[0m\u001b[0mself\u001b[0m\u001b[1;33m)\u001b[0m \u001b[1;33m->\u001b[0m \u001b[0mstr\u001b[0m\u001b[1;33m:\u001b[0m\u001b[1;33m\u001b[0m\u001b[1;33m\u001b[0m\u001b[0m\n",
      "\u001b[1;32mF:\\ProgramData\\Anaconda3\\lib\\site-packages\\torch\\nn\\functional.py\u001b[0m in \u001b[0;36mleaky_relu\u001b[1;34m(input, negative_slope, inplace)\u001b[0m\n\u001b[0;32m   1307\u001b[0m         \u001b[0mresult\u001b[0m \u001b[1;33m=\u001b[0m \u001b[0mtorch\u001b[0m\u001b[1;33m.\u001b[0m\u001b[0m_C\u001b[0m\u001b[1;33m.\u001b[0m\u001b[0m_nn\u001b[0m\u001b[1;33m.\u001b[0m\u001b[0mleaky_relu_\u001b[0m\u001b[1;33m(\u001b[0m\u001b[0minput\u001b[0m\u001b[1;33m,\u001b[0m \u001b[0mnegative_slope\u001b[0m\u001b[1;33m)\u001b[0m\u001b[1;33m\u001b[0m\u001b[1;33m\u001b[0m\u001b[0m\n\u001b[0;32m   1308\u001b[0m     \u001b[1;32melse\u001b[0m\u001b[1;33m:\u001b[0m\u001b[1;33m\u001b[0m\u001b[1;33m\u001b[0m\u001b[0m\n\u001b[1;32m-> 1309\u001b[1;33m         \u001b[0mresult\u001b[0m \u001b[1;33m=\u001b[0m \u001b[0mtorch\u001b[0m\u001b[1;33m.\u001b[0m\u001b[0m_C\u001b[0m\u001b[1;33m.\u001b[0m\u001b[0m_nn\u001b[0m\u001b[1;33m.\u001b[0m\u001b[0mleaky_relu\u001b[0m\u001b[1;33m(\u001b[0m\u001b[0minput\u001b[0m\u001b[1;33m,\u001b[0m \u001b[0mnegative_slope\u001b[0m\u001b[1;33m)\u001b[0m\u001b[1;33m\u001b[0m\u001b[1;33m\u001b[0m\u001b[0m\n\u001b[0m\u001b[0;32m   1310\u001b[0m     \u001b[1;32mreturn\u001b[0m \u001b[0mresult\u001b[0m\u001b[1;33m\u001b[0m\u001b[1;33m\u001b[0m\u001b[0m\n\u001b[0;32m   1311\u001b[0m \u001b[1;33m\u001b[0m\u001b[0m\n",
      "\u001b[1;31mRuntimeError\u001b[0m: CUDA out of memory. Tried to allocate 20.00 MiB (GPU 0; 8.00 GiB total capacity; 6.43 GiB already allocated; 3.00 MiB free; 6.46 GiB reserved in total by PyTorch)"
     ]
    }
   ],
   "source": [
    "for epoch in range(0,50):\n",
    "    #Training\n",
    "    print('Training')\n",
    "    train_dec_loss,train_dis_loss,train_enc_loss,_ = model_process('train',train_loader,epoch)\n",
    "    print('====> Epoch: {} Average Decoder loss: {:.4f} Average Discriminator loss: {:.4f} Average Ecoder loss: {:.4f}'.format(\n",
    "          epoch+1,train_dec_loss / len(train_loader),train_dis_loss / len(train_loader),train_enc_loss / len(train_loader)))\n",
    "    train_dec_loss_li.append(train_dec_loss/len(train_loader))\n",
    "    train_dis_loss_li.append(train_dis_loss/len(train_loader))\n",
    "    train_enc_loss_li.append(train_enc_loss/len(train_loader))\n",
    "    \n",
    "    #Validing\n",
    "    print('Validing')   \n",
    "    valid_dec_loss,valid_dis_loss,valid_enc_loss,_ = model_process('train',valid_loader,epoch)\n",
    "    print('Valid Epoch:{} ===> Average Decoder loss: {:.4f} Average Discriminator loss: {:.4f} Average Ecoder loss: {:.4f}'.format(epoch+1,\n",
    "          valid_dec_loss / len(valid_loader),valid_dis_loss / len(valid_loader),valid_enc_loss / len(valid_loader)))\n",
    "    valid_dec_loss_li.append(valid_dec_loss/len(valid_loader))\n",
    "    valid_dis_loss_li.append(valid_dis_loss/len(valid_loader))\n",
    "    valid_enc_loss_li.append(valid_enc_loss/len(valid_loader))\n",
    "    \n",
    "    #Testing\n",
    "    print('Testing')   \n",
    "    test_dec_loss,test_dis_loss,test_enc_loss,_ = model_process('test',test_loader,epoch)\n",
    "    print('Test Epoch:{} ===> Average Decoder loss: {:.4f} Average Discriminator loss: {:.4f} Average Ecoder loss: {:.4f}'.format(epoch+1,\n",
    "          test_dec_loss / len(test_loader),test_dis_loss / len(test_loader),test_enc_loss / len(test_loader)))\n",
    "    test_dec_loss_li.append(test_dec_loss/len(test_loader))\n",
    "    test_dis_loss_li.append(test_dis_loss/len(test_loader))\n",
    "    test_enc_loss_li.append(test_enc_loss/len(test_loader))\n",
    "    \n",
    "    #Save Model\n",
    "    if epoch%5 ==0:\n",
    "        torch.save(encoder,'model/encoder.pt')\n",
    "        torch.save(decoder,'model/decoder.pt')\n",
    "        torch.save(discriminator,'model/discriminator.pt')\n",
    "    \n",
    "    #Plot loss\n",
    "    plot_loss(train_dec_loss_li,train_dis_loss_li,train_enc_loss_li,valid_dec_loss_li,valid_dis_loss_li,valid_enc_loss_li,test_dec_loss_li,test_dis_loss_li,test_enc_loss_li)\n",
    "    \n",
    "    tr_l1 = l1loss_cal(train_loader)\n",
    "    va_l1 = l1loss_cal(valid_loader)\n",
    "    te_l1 = l1loss_cal(test_loader)\n",
    "    #L1 loss Calculation and Plot L1 loss\n",
    "    print('L1 loss Calculation','Train', tr_l1,'Valid',va_l1,'Test',te_l1)\n",
    "    train_l1.append(tr_l1)\n",
    "    valid_l1.append(va_l1)\n",
    "    test_l1.append(te_l1)\n",
    "    plot_l1_loss(train_l1,valid_l1,test_l1)"
   ]
  },
  {
   "cell_type": "markdown",
   "metadata": {},
   "source": [
    "# Test"
   ]
  },
  {
   "cell_type": "code",
   "execution_count": null,
   "metadata": {},
   "outputs": [],
   "source": [
    "test_input = np.load('test_input.npy')\n",
    "test_input = test_input.transpose(0,1,3,2)\n",
    "test_input = test_input[:54,:1200,:,:]\n",
    "test_input = test_input.reshape(-1,4,3)\n",
    "\n",
    "test_gt = np.load('test_gt.npy')\n",
    "test_gt = test_gt.transpose(0,1,3,2)\n",
    "test_gt = test_gt[:54,:1200,:,:]\n",
    "test_gt = test_gt.reshape(-1,4,3)\n",
    "\n",
    "test_dataset = SignalDataset(test_input,test_gt)\n",
    "test_loader = DataLoader(dataset=test_dataset, batch_size=64800, shuffle=False, num_workers=0)\n",
    "\n",
    "test_dec_loss,test_dis_loss,test_enc_loss, oao = model_process('test',test_loader,0)"
   ]
  },
  {
   "cell_type": "code",
   "execution_count": null,
   "metadata": {},
   "outputs": [],
   "source": [
    "oao = oao.reshape(54,-1,4,3)\n",
    "oao = oao.cpu().detach().numpy()\n",
    "oao = oao.transpose(0,1,3,2)\n",
    "oao = oao.astype(np.int)\n",
    "# print(test_input[5])\n",
    "# print(oao[5])"
   ]
  },
  {
   "cell_type": "code",
   "execution_count": null,
   "metadata": {},
   "outputs": [],
   "source": [
    "with open('test_gen.npy', 'wb') as f:\n",
    "    np.save(f, oao)"
   ]
  },
  {
   "cell_type": "code",
   "execution_count": null,
   "metadata": {},
   "outputs": [],
   "source": []
  }
 ],
 "metadata": {
  "kernelspec": {
   "display_name": "Python 3",
   "language": "python",
   "name": "python3"
  },
  "language_info": {
   "codemirror_mode": {
    "name": "ipython",
    "version": 3
   },
   "file_extension": ".py",
   "mimetype": "text/x-python",
   "name": "python",
   "nbconvert_exporter": "python",
   "pygments_lexer": "ipython3",
   "version": "3.8.5"
  }
 },
 "nbformat": 4,
 "nbformat_minor": 4
}
