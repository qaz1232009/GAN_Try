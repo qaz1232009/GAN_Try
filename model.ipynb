{
 "cells": [
  {
   "cell_type": "markdown",
   "metadata": {},
   "source": [
    "# Import Package"
   ]
  },
  {
   "cell_type": "code",
   "execution_count": 1,
   "metadata": {},
   "outputs": [],
   "source": [
    "import torch.nn as nn\n",
    "import torch\n",
    "import numpy as np\n",
    "import torch.nn.functional as F"
   ]
  },
  {
   "cell_type": "markdown",
   "metadata": {},
   "source": [
    "# Model Class"
   ]
  },
  {
   "cell_type": "code",
   "execution_count": 2,
   "metadata": {},
   "outputs": [],
   "source": [
    "class Encoder(nn.Module):\n",
    "    def __init__(self):\n",
    "        super(Encoder, self).__init__()\n",
    "        \n",
    "        # For encoder\n",
    "        self.encode = nn.Sequential(\n",
    "            nn.Linear(12,20),\n",
    "            nn.ReLU(inplace = False),\n",
    "            nn.Linear(20, 24),\n",
    "            nn.ReLU(inplace = False)\n",
    "        )\n",
    "        \n",
    "        self.l_mu = nn.Linear(in_features=24, out_features=12)\n",
    "        self.l_var = nn.Linear(in_features=24,out_features=12)\n",
    "    \n",
    "    def encoder(self, x):\n",
    "        x = x.view(-1,12)\n",
    "        h = self.encode(x)\n",
    "        mu = self.l_mu(h)\n",
    "        log_var = self.l_var(h)\n",
    "        \n",
    "        return mu, log_var  # mu, log_var\n",
    "    \n",
    "    def sampling(self, mu, log_var):\n",
    "        std = torch.exp(0.5 * log_var)\n",
    "        eps = torch.randn_like(std)\n",
    "        return eps.mul(std).add_(mu)  # return z sample\n",
    "    \n",
    "    def auxilary(self,z):\n",
    "        z_p = Variable(z.data.new(z.size()).normal_())\n",
    "        return z_p\n",
    "    \n",
    "    def forward(self, x):\n",
    "        mu, log_var = self.encoder(x)\n",
    "        z = self.sampling(mu, log_var)\n",
    "        z_p = self.auxilary(z)\n",
    "        return mu, log_var, z,z_p\n",
    "\n",
    "class Decoder(nn.Module):\n",
    "    def __init__(self):\n",
    "        super(Decoder, self).__init__()\n",
    "        \n",
    "        self.decode = nn.Sequential(\n",
    "            nn.Linear(12,16),\n",
    "            nn.ReLU(inplace = False),\n",
    "            nn.Linear(16, 14),\n",
    "            nn.ReLU(inplace = False)\n",
    "        )\n",
    "        self.output = nn.Linear(in_features=14, out_features=12)\n",
    "    \n",
    "    def forward(self, z):\n",
    "        h = self.decode(z)\n",
    "        h = self.output(h)\n",
    "        return h\n",
    "    \n",
    "class Discriminator(nn.Module):\n",
    "    def __init__(self):\n",
    "        super(Discriminator, self).__init__()\n",
    "\n",
    "        self.discriminator = nn.Sequential(\n",
    "            nn.Linear(12,20),\n",
    "            nn.ReLU(inplace = False),\n",
    "            nn.Linear(20, 10),\n",
    "            nn.ReLU(inplace = False),\n",
    "            nn.Linear(10, 1),\n",
    "        )\n",
    "        self.sigmoid = nn.Sigmoid()\n",
    "        \n",
    "    def forward(self, x):\n",
    "        x = x.view(-1,12)\n",
    "        validity = self.discriminator(x)\n",
    "        return self.sigmoid(validity)\n",
    "    \n",
    "    def similarity(self, x):\n",
    "        x = x.view(-1,12)\n",
    "        h = self.discriminator(x)\n",
    "        return h"
   ]
  },
  {
   "cell_type": "code",
   "execution_count": 3,
   "metadata": {},
   "outputs": [],
   "source": [
    "def discriminator_loss(recon_data, sample_data, real_data, REAL_LABEL, FAKE_LABEL):\n",
    "    recon_loss = F.binary_cross_entropy(recon_data, FAKE_LABEL)\n",
    "    sample_loss = F.binary_cross_entropy(sample_data, FAKE_LABEL)\n",
    "    real_loss = F.binary_cross_entropy(real_data, REAL_LABEL)\n",
    "    return recon_loss + sample_loss + real_loss"
   ]
  },
  {
   "cell_type": "markdown",
   "metadata": {},
   "source": [
    "# Load Data"
   ]
  },
  {
   "cell_type": "code",
   "execution_count": 4,
   "metadata": {},
   "outputs": [],
   "source": [
    "from torch.utils.data.dataset import Dataset\n",
    "from torch.utils.data import DataLoader, Subset\n",
    "from tqdm import tqdm "
   ]
  },
  {
   "cell_type": "code",
   "execution_count": 5,
   "metadata": {},
   "outputs": [],
   "source": [
    "train_input = np.load('wireless_gan/train_input.npy')\n",
    "train_gt = np.load('wireless_gan/train_gt.npy')\n",
    "valid_input = np.load('wireless_gan/valid_input.npy')\n",
    "valid_gt = np.load('wireless_gan/valid_gt.npy')\n",
    "test_input = np.load('wireless_gan/test_input.npy')\n",
    "test_gt = np.load('wireless_gan/test_gt.npy')"
   ]
  },
  {
   "cell_type": "code",
   "execution_count": 6,
   "metadata": {},
   "outputs": [],
   "source": [
    "class SignalDataset(Dataset):\n",
    "    def __init__(self, input_data,ground_truth):\n",
    "        self.input_data =input_data\n",
    "        self.ground_truth = ground_truth\n",
    "\n",
    "    def __getitem__(self, index):\n",
    "        input_data = np.array(self.input_data[index], dtype=np.float32)\n",
    "        ground_truth = np.array(self.ground_truth[index], dtype=np.float32)\n",
    "        return input_data,ground_truth\n",
    "\n",
    "    def __len__(self):\n",
    "        return len(self.input_data)"
   ]
  },
  {
   "cell_type": "code",
   "execution_count": 7,
   "metadata": {},
   "outputs": [],
   "source": [
    "train_dataset = SignalDataset(train_input[:240000],train_gt[:240000])\n",
    "valid_dataset = SignalDataset(valid_input,valid_gt)\n",
    "\n",
    "train_loader = DataLoader(dataset=train_dataset, batch_size=40, shuffle=True, num_workers=0)\n",
    "valid_loader = DataLoader(dataset=train_dataset, batch_size=24, shuffle=True, num_workers=0)"
   ]
  },
  {
   "cell_type": "markdown",
   "metadata": {},
   "source": [
    "# Train Model"
   ]
  },
  {
   "cell_type": "code",
   "execution_count": 8,
   "metadata": {},
   "outputs": [],
   "source": [
    "from torch.autograd import Variable"
   ]
  },
  {
   "cell_type": "code",
   "execution_count": 9,
   "metadata": {},
   "outputs": [],
   "source": [
    "if torch.cuda.is_available():\n",
    "    Tensor = torch.cuda.FloatTensor\n",
    "    encoder = Encoder().cuda()\n",
    "    decoder = Decoder().cuda()\n",
    "    discriminator = Discriminator().cuda()\n",
    "else:\n",
    "    Tensor = torch.FloatTensor\n",
    "    encoder = Encoder()\n",
    "    decoder = Decoder()\n",
    "    discriminator = Discriminator()"
   ]
  },
  {
   "cell_type": "code",
   "execution_count": 10,
   "metadata": {},
   "outputs": [],
   "source": [
    "optimizer_E = torch.optim.Adam(encoder.parameters(), lr=0.0001)\n",
    "optimizer_D = torch.optim.Adam(decoder.parameters(), lr=0.0001)\n",
    "optimizer_Dis = torch.optim.Adam(discriminator.parameters(), lr=0.0001)"
   ]
  },
  {
   "cell_type": "code",
   "execution_count": 11,
   "metadata": {},
   "outputs": [],
   "source": [
    "# lr_scheduler_G = torch.optim.lr_scheduler.StepLR(optimizer_G, step_size = 1, gamma=0.9)"
   ]
  },
  {
   "cell_type": "code",
   "execution_count": null,
   "metadata": {},
   "outputs": [
    {
     "name": "stderr",
     "output_type": "stream",
     "text": [
      "4332it [00:53, 80.72it/s]"
     ]
    }
   ],
   "source": [
    "for epoch in range(0,10):\n",
    "    train_dec_loss = 0\n",
    "    train_dis_loss = 0\n",
    "    train_enc_loss = 0\n",
    "    for i, (input_data,ground_truth) in tqdm(enumerate(train_loader)):\n",
    "        valid = Variable(Tensor(len(input_data), 1).fill_(1.0), requires_grad=False).type(torch.cuda.FloatTensor)\n",
    "        fake = Variable(Tensor(len(input_data), 1).fill_(0.0), requires_grad=False).type(torch.cuda.FloatTensor)\n",
    "        input_data = Variable(input_data.type(Tensor)).type(torch.cuda.FloatTensor)\n",
    "        ground_truth = Variable(ground_truth.type(Tensor)).type(torch.cuda.FloatTensor)\n",
    "        \n",
    "        mu, log_var, z,z_p  = encoder(input_data)\n",
    "        predicts = decoder(z)\n",
    "        predicts_p = decoder(z_p)\n",
    "        \n",
    "        optimizer_Dis.zero_grad()\n",
    "        X = discriminator(predicts)\n",
    "        X_p = discriminator(predicts_p)\n",
    "        X_real = discriminator(ground_truth)\n",
    "        X_sim = discriminator.similarity(predicts)\n",
    "        X_data = discriminator.similarity(ground_truth)\n",
    "        dis_loss = discriminator_loss(X, X_p, X_real, valid, fake)\n",
    "        dis_loss.backward(retain_graph=True)\n",
    "        optimizer_Dis.step()\n",
    "        \n",
    "        optimizer_D.zero_grad()\n",
    "        X = discriminator(predicts)\n",
    "        X_p = discriminator(predicts_p)\n",
    "        X_real = discriminator(ground_truth)\n",
    "        X_sim = discriminator.similarity(predicts)\n",
    "        X_data = discriminator.similarity(ground_truth)\n",
    "        dis_loss = discriminator_loss(X, X_p, X_real, valid, fake)\n",
    "        rec_loss = ((X_sim - X_data) ** 2).mean()\n",
    "        decoder_loss = 25 * rec_loss - dis_loss\n",
    "        decoder_loss.backward(retain_graph=True)\n",
    "        optimizer_D.step()\n",
    "        \n",
    "        optimizer_E.zero_grad()\n",
    "        mu, log_var, z,z_p  = encoder(input_data)\n",
    "        predicts = decoder(z)\n",
    "        predicts_p = decoder(z_p)\n",
    "        X_sim = discriminator.similarity(predicts)\n",
    "        X_data = discriminator.similarity(ground_truth)\n",
    "        rec_loss = ((X_sim - X_data) ** 2).mean()\n",
    "        mu, log_var, z,z_p  = encoder(input_data)\n",
    "        KLD = -0.5 * torch.sum(1 + log_var - mu.pow(2) - log_var.exp())\n",
    "        KLD = KLD / len(input_data) * 12\n",
    "        encoder_loss = KLD + 5 * rec_loss\n",
    "        encoder_loss.backward()\n",
    "        optimizer_E.step()\n",
    "        \n",
    "        train_dec_loss = train_dec_loss + decoder_loss.item()\n",
    "        train_dis_loss = train_dis_loss + dis_loss.item()\n",
    "        train_enc_loss = train_enc_loss + encoder_loss.item()\n",
    "        \n",
    "    print('====> Epoch: {} Average Decoder loss: {:.4f} Average Discriminator loss: {:.4f} Average Ecoder loss: {:.4f}'.format(\n",
    "          epoch,train_dec_loss / len(input_data),train_dis_loss / len(input_data),train_enc_loss / len(input_data)))"
   ]
  },
  {
   "cell_type": "code",
   "execution_count": null,
   "metadata": {},
   "outputs": [],
   "source": []
  }
 ],
 "metadata": {
  "kernelspec": {
   "display_name": "Python 3",
   "language": "python",
   "name": "python3"
  },
  "language_info": {
   "codemirror_mode": {
    "name": "ipython",
    "version": 3
   },
   "file_extension": ".py",
   "mimetype": "text/x-python",
   "name": "python",
   "nbconvert_exporter": "python",
   "pygments_lexer": "ipython3",
   "version": "3.7.9"
  }
 },
 "nbformat": 4,
 "nbformat_minor": 4
}
