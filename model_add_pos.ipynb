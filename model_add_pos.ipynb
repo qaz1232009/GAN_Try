{
 "cells": [
  {
   "cell_type": "markdown",
   "metadata": {},
   "source": [
    "# Import Package"
   ]
  },
  {
   "cell_type": "code",
   "execution_count": 1,
   "metadata": {},
   "outputs": [],
   "source": [
    "import torch.nn as nn\n",
    "import torch\n",
    "import numpy as np\n",
    "import torch.nn.functional as F"
   ]
  },
  {
   "cell_type": "markdown",
   "metadata": {},
   "source": [
    "# Model Class"
   ]
  },
  {
   "cell_type": "code",
   "execution_count": 2,
   "metadata": {},
   "outputs": [],
   "source": [
    "class Encoder(nn.Module):\n",
    "    def __init__(self):\n",
    "        super(Encoder, self).__init__()\n",
    "        \n",
    "        # For encoder\n",
    "        self.encode = nn.Sequential(\n",
    "            nn.Linear(12,32),\n",
    "            nn.LeakyReLU(),\n",
    "            nn.Linear(32,64),\n",
    "            nn.LeakyReLU(),\n",
    "            nn.Linear(64,128),\n",
    "            nn.LeakyReLU(),\n",
    "            nn.Linear(128,70),\n",
    "            nn.LeakyReLU(),\n",
    "            nn.Linear(70,35),\n",
    "            nn.LeakyReLU(),\n",
    "            nn.Linear(35,16),\n",
    "            nn.LeakyReLU()\n",
    "        )\n",
    "        \n",
    "        self.l_mu = nn.Linear(in_features=16, out_features=10)\n",
    "        self.l_var = nn.Linear(in_features=16,out_features=10)\n",
    "    \n",
    "    def encoder(self, x):\n",
    "#         x = x.view(-1,12)\n",
    "        h = self.encode(x)\n",
    "        mu = self.l_mu(h)\n",
    "        log_var = self.l_var(h)\n",
    "        \n",
    "        return mu, log_var  # mu, log_var\n",
    "    \n",
    "    def sampling(self, mu, log_var):\n",
    "        std = torch.exp(0.5 * log_var)\n",
    "        eps = torch.randn_like(std)\n",
    "        return eps.mul(std).add_(mu)  # return z sample\n",
    "    \n",
    "    def auxilary(self,z):\n",
    "        z_p = Variable(z.data.new(z.size()).normal_())\n",
    "        return z_p\n",
    "    \n",
    "    def forward(self, x):\n",
    "        mu, log_var = self.encoder(x)\n",
    "        z = self.sampling(mu, log_var)\n",
    "        z_p = self.auxilary(z)\n",
    "        return mu, log_var, z,z_p\n",
    "\n",
    "class Decoder(nn.Module):\n",
    "    def __init__(self):\n",
    "        super(Decoder, self).__init__()\n",
    "        \n",
    "        self.decode = nn.Sequential(\n",
    "            nn.Linear(10,40),\n",
    "            nn.LeakyReLU(),\n",
    "            nn.Linear(40,80),\n",
    "            nn.LeakyReLU(),\n",
    "            nn.Linear(80, 256),\n",
    "            nn.LeakyReLU(),\n",
    "            nn.Linear(256, 128),\n",
    "            nn.LeakyReLU(),\n",
    "            nn.Linear(128, 64),\n",
    "            nn.LeakyReLU(),\n",
    "            nn.Linear(64, 32),\n",
    "            nn.LeakyReLU(),\n",
    "        )\n",
    "        self.output = nn.Linear(in_features=32, out_features=12)\n",
    "    \n",
    "    def forward(self, z):\n",
    "        h = self.decode(z)\n",
    "        h = self.output(h)\n",
    "        return h\n",
    "    \n",
    "class Discriminator(nn.Module):\n",
    "    def __init__(self):\n",
    "        super(Discriminator, self).__init__()\n",
    "\n",
    "        self.discriminator = nn.Sequential(\n",
    "            nn.Linear(12,64),\n",
    "            nn.LeakyReLU(),\n",
    "            nn.Linear(64, 128),\n",
    "            nn.LeakyReLU(),\n",
    "            nn.Linear(128, 64),\n",
    "            nn.LeakyReLU(),\n",
    "            nn.Linear(64,1),\n",
    "        )\n",
    "        self.sigmoid = nn.Sigmoid()\n",
    "        \n",
    "    def forward(self, x):\n",
    "#         x = x.view(-1,12)\n",
    "        validity = self.discriminator(x)\n",
    "        return self.sigmoid(validity)\n",
    "    \n",
    "    def similarity(self, x):\n",
    "#         x = x.view(-1,12)\n",
    "        h = self.discriminator(x)\n",
    "        return h\n",
    "\n",
    "class Position_Discriminator(nn.Module):\n",
    "    def __init__(self):\n",
    "        super(Position_Discriminator, self).__init__()\n",
    "\n",
    "        self.discriminator = nn.Sequential(\n",
    "            nn.Linear(4,16),\n",
    "            nn.LeakyReLU(),\n",
    "            nn.Linear(16, 32),\n",
    "            nn.LeakyReLU(),\n",
    "            nn.Linear(32, 64),\n",
    "            nn.LeakyReLU(),\n",
    "            nn.Linear(64, 32),\n",
    "            nn.LeakyReLU(),\n",
    "            nn.Linear(32,2),\n",
    "        )\n",
    "        \n",
    "    def forward(self, x):\n",
    "        validity = self.discriminator(x)\n",
    "        return validity"
   ]
  },
  {
   "cell_type": "code",
   "execution_count": 3,
   "metadata": {},
   "outputs": [],
   "source": [
    "def discriminator_loss(recon_data, sample_data, real_data, REAL_LABEL, FAKE_LABEL):\n",
    "    recon_loss = F.binary_cross_entropy(recon_data, FAKE_LABEL)\n",
    "    sample_loss = F.binary_cross_entropy(sample_data, FAKE_LABEL)\n",
    "    real_loss = F.binary_cross_entropy(real_data, REAL_LABEL)\n",
    "    return recon_loss + sample_loss + real_loss"
   ]
  },
  {
   "cell_type": "code",
   "execution_count": 4,
   "metadata": {},
   "outputs": [],
   "source": [
    "def position_discriminator_loss(predict, target):\n",
    "    loss_fuc = nn.MSELoss()\n",
    "    loss = loss_fuc(predict, target)\n",
    "    return loss"
   ]
  },
  {
   "cell_type": "markdown",
   "metadata": {},
   "source": [
    "## Plot loss(JPG)"
   ]
  },
  {
   "cell_type": "code",
   "execution_count": 5,
   "metadata": {},
   "outputs": [],
   "source": [
    "def plot_loss(train_dec_loss_li,train_dis_loss_li,train_enc_loss_li,train_Q_loss_li):#,valid_dec_loss_li,valid_dis_loss_li,valid_enc_loss_li,test_dec_loss_li,test_dis_loss_li,test_enc_loss_li):\n",
    "#     plt.plot(train_dec_loss_li, color='b', label='train_dec_loss')\n",
    "#     plt.plot(train_dis_loss_li, color='g', label='train_dis_loss')\n",
    "#     plt.plot(train_enc_loss_li, color='r', label='train_enc_loss')\n",
    "#     plt.plot(valid_dec_loss_li, color='cadetblue', label='valid_dec_loss')\n",
    "#     plt.plot(valid_dis_loss_li, color='coral', label='valid_dis_loss')\n",
    "#     plt.plot(valid_enc_loss_li, color='deepskyblue', label='valid_enc_loss')\n",
    "#     plt.plot(test_dec_loss_li, color='fuchsia', label='valid_dec_loss')\n",
    "#     plt.plot(test_dis_loss_li, color='hotpink', label='valid_dis_loss')\n",
    "#     plt.plot(test_enc_loss_li, color='lavenderblush', label='valid_enc_loss')\n",
    "#     plt.legend()\n",
    "#     plt.savefig('loss_png/loss_all-{}.jpg'.format(str('')))\n",
    "#     plt.close()\n",
    "\n",
    "    plt.plot(train_dec_loss_li, color='b', label='train_dec_loss')\n",
    "    plt.plot(train_dis_loss_li, color='g', label='train_dis_loss')\n",
    "    plt.plot(train_enc_loss_li, color='r', label='train_enc_loss')\n",
    "    plt.plot(train_Q_loss_li, color='deepskyblue', label='train_pos_loss')\n",
    "    plt.legend()\n",
    "    plt.savefig('loss_png/train_loss-{}.jpg'.format(str('')))\n",
    "    plt.close()\n",
    "\n",
    "#     plt.plot(valid_dec_loss_li, color='cadetblue', label='valid_dec_loss')\n",
    "#     plt.plot(valid_dis_loss_li, color='coral', label='valid_dis_loss')\n",
    "#     plt.plot(valid_enc_loss_li, color='deepskyblue', label='valid_enc_loss')\n",
    "#     plt.legend()\n",
    "#     plt.savefig('loss_png/valid_loss-{}.jpg'.format(str('')))\n",
    "#     plt.close()\n",
    "    \n",
    "#     plt.plot(test_dec_loss_li, color='fuchsia', label='test_dec_loss')\n",
    "#     plt.plot(test_dis_loss_li, color='hotpink', label='test_dis_loss')\n",
    "#     plt.plot(test_enc_loss_li, color='lavenderblush', label='test_enc_loss')\n",
    "#     plt.legend()\n",
    "#     plt.savefig('loss_png/test_loss-{}.jpg'.format(str('')))\n",
    "#     plt.close()"
   ]
  },
  {
   "cell_type": "markdown",
   "metadata": {},
   "source": [
    "## L1_loss Calculation"
   ]
  },
  {
   "cell_type": "code",
   "execution_count": 6,
   "metadata": {},
   "outputs": [],
   "source": [
    "def l1loss_cal(data_loader):\n",
    "    l1_loss = []\n",
    "    for i, (input_data,ground_truth) in enumerate(data_loader):\n",
    "        input_data = Variable(input_data[:,:12].type(Tensor)).type(torch.cuda.FloatTensor)\n",
    "        ground_truth = Variable(ground_truth[:,:12].type(Tensor)).type(torch.cuda.FloatTensor)\n",
    "\n",
    "        mu, log_var, z,z_p  = encoder(input_data)\n",
    "        predicts = decoder(z)\n",
    "        l1_loss.append(abs(float(torch.mean(ground_truth.reshape(-1,4,3)[0,:,1]-predicts.reshape(-1,4,3)[0,:,1]))))\n",
    "    return sum(l1_loss)/len(l1_loss)"
   ]
  },
  {
   "cell_type": "code",
   "execution_count": 7,
   "metadata": {},
   "outputs": [],
   "source": [
    "def plot_l1_loss(train_l1):#,valid_l1,test_l1):\n",
    "#     plt.plot(train_l1, color='darkred', label='Train_l1_loss')\n",
    "#     plt.plot(valid_l1, color='deeppink', label='Valid_l1_loss')\n",
    "#     plt.plot(test_l1, color='gold', label='Test_l1_loss')\n",
    "#     plt.legend()\n",
    "#     plt.savefig('loss_png_l1/all_l1_loss-{}.jpg'.format(str('')))\n",
    "#     plt.close()\n",
    "    \n",
    "    plt.plot(train_l1, color='darkred', label='Train_l1_loss')\n",
    "    plt.legend()\n",
    "    plt.savefig('loss_png_l1/train_l1_loss-{}.jpg'.format(str('')))\n",
    "    plt.close()\n",
    "    \n",
    "#     plt.plot(valid_l1, color='deeppink', label='Valid_l1_loss')\n",
    "#     plt.legend()\n",
    "#     plt.savefig('loss_png_l1/valid_l1_loss-{}.jpg'.format(str('')))\n",
    "#     plt.close()\n",
    "    \n",
    "#     plt.plot(test_l1, color='gold', label='Valid_l1_loss')\n",
    "#     plt.legend()\n",
    "#     plt.savefig('loss_png_l1/test_l1_loss-{}.jpg'.format(str('')))\n",
    "#     plt.close()"
   ]
  },
  {
   "cell_type": "markdown",
   "metadata": {},
   "source": [
    "# Load Data"
   ]
  },
  {
   "cell_type": "code",
   "execution_count": 8,
   "metadata": {},
   "outputs": [],
   "source": [
    "from torch.utils.data.dataset import Dataset\n",
    "from torch.utils.data import DataLoader, Subset\n",
    "from tqdm import tqdm "
   ]
  },
  {
   "cell_type": "markdown",
   "metadata": {},
   "source": [
    "## DataLoader Class"
   ]
  },
  {
   "cell_type": "code",
   "execution_count": 9,
   "metadata": {},
   "outputs": [],
   "source": [
    "class SignalDataset(Dataset):\n",
    "    def __init__(self, input_data,ground_truth):\n",
    "        self.input_data =input_data\n",
    "        self.ground_truth = ground_truth\n",
    "\n",
    "    def __getitem__(self, index):\n",
    "        input_data = np.array(self.input_data[index], dtype=np.float32)\n",
    "        ground_truth = np.array(self.ground_truth[index], dtype=np.float32)\n",
    "        return input_data,ground_truth\n",
    "\n",
    "    def __len__(self):\n",
    "        return len(self.input_data)"
   ]
  },
  {
   "cell_type": "markdown",
   "metadata": {},
   "source": [
    "### Load Data(Don't Use Tranpose)"
   ]
  },
  {
   "cell_type": "code",
   "execution_count": 10,
   "metadata": {},
   "outputs": [],
   "source": [
    "train_input = np.load('train_data/model_pos/train_input_pos.npy')\n",
    "train_input = train_input.reshape(-1,14)\n",
    "train_gt = np.load('train_data/model_pos/train_gt_pos.npy')\n",
    "train_gt = train_gt.reshape(-1,14)\n",
    "# print(train_gt[0])\n",
    "# valid_input = np.load('valid_input.npy').reshape(-1,3,4)\n",
    "# valid_gt = np.load('valid_gt.npy').reshape(-1,3,4)\n",
    "# test_input = np.load('test_input.npy')\n",
    "# test_gt = np.load('test_gt.npy')"
   ]
  },
  {
   "cell_type": "code",
   "execution_count": 11,
   "metadata": {},
   "outputs": [],
   "source": [
    "# train_input = train_input.transpose(0,2,1)\n",
    "# train_gt = train_gt.transpose(0,2,1)\n",
    "# valid_input = valid_input.transpose(0,2,1)\n",
    "# valid_gt = valid_gt.transpose(0,2,1)\n",
    "# test_input = test_input.transpose(0,1,3,2)\n",
    "# test_gt = test_gt.transpose(0,1,3,2)"
   ]
  },
  {
   "cell_type": "code",
   "execution_count": 12,
   "metadata": {},
   "outputs": [],
   "source": [
    "# test_input = test_input[:54,:1200,:,:]\n",
    "# test_input = test_input.reshape(-1,4,3)[:5]\n",
    "# test_gt = test_gt[:54,:1200,:,:]\n",
    "# test_gt = test_gt.reshape(-1,4,3)[:5]"
   ]
  },
  {
   "cell_type": "code",
   "execution_count": 13,
   "metadata": {},
   "outputs": [],
   "source": [
    "train_dataset = SignalDataset(train_input,train_gt)\n",
    "# valid_dataset = SignalDataset(valid_input,valid_gt)\n",
    "# test_dataset = SignalDataset(test_input,test_gt)\n",
    "\n",
    "train_loader = DataLoader(dataset=train_dataset, batch_size=100, shuffle=True, num_workers=0)\n",
    "# valid_loader = DataLoader(dataset=valid_dataset, batch_size=10000, shuffle=True, num_workers=0)\n",
    "# test_loader = DataLoader(dataset=test_dataset, batch_size=10000, shuffle=True, num_workers=0)"
   ]
  },
  {
   "cell_type": "markdown",
   "metadata": {},
   "source": [
    "# Train Model"
   ]
  },
  {
   "cell_type": "code",
   "execution_count": 14,
   "metadata": {},
   "outputs": [],
   "source": [
    "from torch.autograd import Variable\n",
    "import matplotlib.pyplot as plt"
   ]
  },
  {
   "cell_type": "code",
   "execution_count": 15,
   "metadata": {},
   "outputs": [],
   "source": [
    "if torch.cuda.is_available():\n",
    "    Tensor = torch.cuda.FloatTensor\n",
    "    encoder = Encoder().cuda()\n",
    "    decoder = Decoder().cuda()\n",
    "    discriminator = Discriminator().cuda()\n",
    "    position_Discriminator = Position_Discriminator().cuda()\n",
    "#     encoder_pt = 'wireless_gan/1.12/encoder.pt'\n",
    "#     encoder.load_state_dict(torch.load(encoder_pt))\n",
    "#     decoder_pt = 'wireless_gan/1.12/decoder.pt'\n",
    "#     decoder.load_state_dict(torch.load(decoder_pt))\n",
    "#     discriminator_pt = 'wireless_gan/1.12/discriminator.pt'\n",
    "#     discriminator.load_state_dict(torch.load(discriminator_pt))\n",
    "else:\n",
    "    Tensor = torch.FloatTensor\n",
    "    encoder = Encoder()\n",
    "    decoder = Decoder()\n",
    "    discriminator = Discriminator()\n",
    "    position_Discriminator = Position_Discriminator()"
   ]
  },
  {
   "cell_type": "code",
   "execution_count": 16,
   "metadata": {},
   "outputs": [],
   "source": [
    "train_dec_loss_li,train_dis_loss_li,train_enc_loss_li,train_Q_loss_li,valid_dec_loss_li,valid_dis_loss_li,valid_enc_loss_li = [],[],[],[],[],[],[]\n",
    "test_dec_loss_li,test_dis_loss_li,test_enc_loss_li = [],[],[]\n",
    "train_l1,valid_l1,test_l1 = [],[],[]"
   ]
  },
  {
   "cell_type": "code",
   "execution_count": 17,
   "metadata": {},
   "outputs": [],
   "source": [
    "optimizer_E = torch.optim.Adam(encoder.parameters(), lr=0.0001)\n",
    "optimizer_D = torch.optim.Adam(decoder.parameters(), lr=0.0001)\n",
    "optimizer_Dis = torch.optim.Adam(discriminator.parameters(), lr=0.0001)\n",
    "optimizer_Dis_Pos = torch.optim.Adam(position_Discriminator.parameters(), lr=0.0001)\n",
    "# lr_scheduler_G = torch.optim.lr_scheduler.StepLR(optimizer_G, step_size = 1, gamma=0.9)"
   ]
  },
  {
   "cell_type": "markdown",
   "metadata": {},
   "source": [
    "## Train model process detail function"
   ]
  },
  {
   "cell_type": "code",
   "execution_count": 18,
   "metadata": {},
   "outputs": [],
   "source": [
    "def model_process(mode,dataloader,epoch):\n",
    "    dec_loss,dis_loss,enc_loss,flag = 0,0,0,0\n",
    "    for i, (x,y) in tqdm(enumerate(dataloader)):\n",
    "        valid = Variable(Tensor(len(x), 1).fill_(1.0), requires_grad=False).type(torch.cuda.FloatTensor)\n",
    "        fake = Variable(Tensor(len(x), 1).fill_(0.0), requires_grad=False).type(torch.cuda.FloatTensor)\n",
    "        input_data = Variable(x[:,:12].type(Tensor)).type(torch.cuda.FloatTensor)\n",
    "        ground_truth = Variable(y[:,:12].type(Tensor)).type(torch.cuda.FloatTensor)\n",
    "        \n",
    "        mu, log_var, z,z_p  = encoder(input_data)\n",
    "        predicts = decoder(z)\n",
    "        predicts_p = decoder(z_p)\n",
    "        \n",
    "        # Train Discriminator \n",
    "        X = discriminator(predicts)\n",
    "        X_p = discriminator(predicts_p)\n",
    "        X_real = discriminator(ground_truth)\n",
    "        X_sim = discriminator.similarity(predicts)\n",
    "        X_data = discriminator.similarity(ground_truth)\n",
    "        dis_loss = discriminator_loss(X, X_p, X_real, valid, fake)\n",
    "        if mode =='train':\n",
    "            if epoch % 2 == 0 and flag==0:\n",
    "                if epoch == 0 and i>10:\n",
    "                    flag = 1\n",
    "                optimizer_Dis.zero_grad()\n",
    "                dis_loss.backward(retain_graph=True)\n",
    "                optimizer_Dis.step()\n",
    "        \n",
    "        # Train Position_Discriminator \n",
    "        ground_truth_pos = Variable(y[:,12:].type(Tensor)).type(torch.cuda.FloatTensor)\n",
    "        pos_predicts = position_Discriminator(predicts.view(-1,4,3)[:, :, 1])\n",
    "        pos_dis_loss = position_discriminator_loss(pos_predicts, ground_truth_pos)\n",
    "        pos_predicts_real = position_Discriminator(ground_truth.view(-1,4,3)[:, :, 1])\n",
    "        pos_dis_loss = position_discriminator_loss(pos_predicts, ground_truth_pos) + position_discriminator_loss(pos_predicts_real, ground_truth_pos)\n",
    "        if mode =='train':\n",
    "            if epoch % 2 == 0 and flag==0:\n",
    "                if epoch == 0 and i>10:\n",
    "                    flag = 1\n",
    "                optimizer_Dis_Pos.zero_grad()\n",
    "                pos_dis_loss.backward(retain_graph=True)\n",
    "                optimizer_Dis_Pos.step()\n",
    "        \n",
    "        # Train Decoder \n",
    "        X = discriminator(predicts)\n",
    "        X_p = discriminator(predicts_p)\n",
    "        X_real = discriminator(ground_truth)\n",
    "        X_sim = discriminator.similarity(predicts)\n",
    "        X_data = discriminator.similarity(ground_truth)\n",
    "        dis_loss = discriminator_loss(X, X_p, X_real, valid, fake)\n",
    "        rec_loss = ((X_sim - X_data) ** 2).mean()\n",
    "        l1_loss_fuc = nn.L1Loss()\n",
    "        l1_loss_dec_a = l1_loss_fuc(predicts.view(-1,4,3)[:, :, 0], ground_truth.view(-1,4,3)[:, :, 0])\n",
    "        l1_loss_dec_b = l1_loss_fuc(predicts.view(-1,4,3)[:, :, 2], ground_truth.view(-1,4,3)[:, :, 2])\n",
    "        l1_loss_dec = l1_loss_dec_a + l1_loss_dec_b\n",
    "        pos_predicts = position_Discriminator(predicts.view(-1,4,3)[:, :, 1])\n",
    "        pos_dis_loss = position_discriminator_loss(pos_predicts, ground_truth_pos)\n",
    "        decoder_loss = 100 * rec_loss - 2 * dis_loss + 0.1 * l1_loss_dec + pos_dis_loss\n",
    "        if mode =='train':\n",
    "            optimizer_D.zero_grad()\n",
    "            decoder_loss.backward(retain_graph=True)\n",
    "            optimizer_D.step()\n",
    "        \n",
    "        # Train Encoder \n",
    "        mu, log_var, z,z_p  = encoder(input_data)\n",
    "        predicts = decoder(z)\n",
    "        predicts_p = decoder(z_p)\n",
    "        X_sim = discriminator.similarity(predicts)\n",
    "        X_data = discriminator.similarity(ground_truth)\n",
    "        rec_loss = ((X_sim - X_data) ** 2).mean()\n",
    "        mu, log_var, z,z_p  = encoder(input_data)\n",
    "        KLD = -0.5 * torch.sum(1 + log_var - mu.pow(2) - log_var.exp())\n",
    "        KLD = KLD / len(input_data) * 12\n",
    "        pos_predicts = position_Discriminator(predicts.view(-1,4,3)[:, :, 1])\n",
    "        pos_dis_loss = position_discriminator_loss(pos_predicts, ground_truth_pos)\n",
    "        encoder_loss = KLD + 10 * rec_loss + pos_dis_loss\n",
    "        if mode =='train':\n",
    "            optimizer_E.zero_grad()\n",
    "            encoder_loss.backward()\n",
    "            optimizer_E.step()\n",
    "            \n",
    "            \n",
    "        dec_loss = dec_loss + decoder_loss.item()\n",
    "        dis_loss = dis_loss + dis_loss.item()\n",
    "        enc_loss = enc_loss + encoder_loss.item()\n",
    "    return dec_loss,dis_loss,enc_loss,pos_dis_loss,predicts"
   ]
  },
  {
   "cell_type": "markdown",
   "metadata": {},
   "source": [
    "## Start Train Epoch"
   ]
  },
  {
   "cell_type": "code",
   "execution_count": null,
   "metadata": {},
   "outputs": [
    {
     "name": "stderr",
     "output_type": "stream",
     "text": [
      "0it [00:00, ?it/s]"
     ]
    },
    {
     "name": "stdout",
     "output_type": "stream",
     "text": [
      "Training\n"
     ]
    },
    {
     "name": "stderr",
     "output_type": "stream",
     "text": [
      "23234it [07:38, 51.01it/s]"
     ]
    }
   ],
   "source": [
    "for epoch in range(0,50):\n",
    "    #Training\n",
    "    print('Training')\n",
    "    train_dec_loss,train_dis_loss,train_enc_loss,train_pos_loss,_ = model_process('train',train_loader,epoch)\n",
    "    print('====> Epoch: {} Average Decoder loss: {:.4f} Average Discriminator loss: {:.4f} Average Ecoder loss: {:.4f} Average Position Discriminator loss: {:.4f}'.format(\n",
    "          epoch+1,train_dec_loss / len(train_loader),train_dis_loss / len(train_loader),train_enc_loss / len(train_loader),train_pos_loss/ len(train_loader)))\n",
    "    train_dec_loss_li.append(train_dec_loss/len(train_loader))\n",
    "    train_dis_loss_li.append(train_dis_loss/len(train_loader))\n",
    "    train_enc_loss_li.append(train_enc_loss/len(train_loader))\n",
    "    train_Q_loss_li.append(train_pos_loss/len(train_loader))\n",
    "    '''#Validing\n",
    "    print('Validing')   \n",
    "    valid_dec_loss,valid_dis_loss,valid_enc_loss,_ = model_process('train',valid_loader,epoch)\n",
    "    print('Valid Epoch:{} ===> Average Decoder loss: {:.4f} Average Discriminator loss: {:.4f} Average Ecoder loss: {:.4f}'.format(epoch+1,\n",
    "          valid_dec_loss / len(valid_loader),valid_dis_loss / len(valid_loader),valid_enc_loss / len(valid_loader)))\n",
    "    valid_dec_loss_li.append(valid_dec_loss/len(valid_loader))\n",
    "    valid_dis_loss_li.append(valid_dis_loss/len(valid_loader))\n",
    "    valid_enc_loss_li.append(valid_enc_loss/len(valid_loader))\n",
    "    \n",
    "    #Testing\n",
    "    print('Testing')   \n",
    "    test_dec_loss,test_dis_loss,test_enc_loss,_ = model_process('test',test_loader,epoch)\n",
    "    print('Test Epoch:{} ===> Average Decoder loss: {:.4f} Average Discriminator loss: {:.4f} Average Ecoder loss: {:.4f}'.format(epoch+1,\n",
    "          test_dec_loss / len(test_loader),test_dis_loss / len(test_loader),test_enc_loss / len(test_loader)))\n",
    "    test_dec_loss_li.append(test_dec_loss/len(test_loader))\n",
    "    test_dis_loss_li.append(test_dis_loss/len(test_loader))\n",
    "    test_enc_loss_li.append(test_enc_loss/len(test_loader))\n",
    "    '''\n",
    "    #Save Model\n",
    "    if epoch%5 ==0:\n",
    "        torch.save(encoder,'model/encoder.pt')\n",
    "        torch.save(decoder,'model/decoder.pt')\n",
    "        torch.save(discriminator,'model/discriminator.pt')\n",
    "    \n",
    "    #Plot loss\n",
    "    plot_loss(train_dec_loss_li,train_dis_loss_li,train_enc_loss_li,train_Q_loss_li)#,valid_dec_loss_li,valid_dis_loss_li,valid_enc_loss_li,test_dec_loss_li,test_dis_loss_li,test_enc_loss_li)\n",
    "    \n",
    "    tr_l1 = l1loss_cal(train_loader)\n",
    "#     va_l1 = l1loss_cal(valid_loader)\n",
    "#     te_l1 = l1loss_cal(test_loader)\n",
    "    #L1 loss Calculation and Plot L1 loss\n",
    "    print('L1 loss Calculation','Train', tr_l1)#,'Valid',va_l1,'Test',te_l1)\n",
    "    train_l1.append(tr_l1)\n",
    "#     valid_l1.append(va_l1)\n",
    "#     test_l1.append(te_l1)\n",
    "    plot_l1_loss(train_l1)#,valid_l1,test_l1)"
   ]
  },
  {
   "cell_type": "markdown",
   "metadata": {},
   "source": [
    "# Test"
   ]
  },
  {
   "cell_type": "code",
   "execution_count": null,
   "metadata": {},
   "outputs": [],
   "source": [
    "test_input = np.load('test_input.npy')\n",
    "test_input = test_input.transpose(0,1,3,2)\n",
    "test_input = test_input[:54,:1200,:,:]\n",
    "test_input = test_input.reshape(-1,4,3)\n",
    "\n",
    "test_gt = np.load('test_gt.npy')\n",
    "test_gt = test_gt.transpose(0,1,3,2)\n",
    "test_gt = test_gt[:54,:1200,:,:]\n",
    "test_gt = test_gt.reshape(-1,4,3)\n",
    "\n",
    "test_dataset = SignalDataset(test_input,test_gt)\n",
    "test_loader = DataLoader(dataset=test_dataset, batch_size=64800, shuffle=False, num_workers=0)\n",
    "\n",
    "test_dec_loss,test_dis_loss,test_enc_loss, oao = model_process('test',test_loader,0)"
   ]
  },
  {
   "cell_type": "code",
   "execution_count": null,
   "metadata": {},
   "outputs": [],
   "source": [
    "oao = oao.reshape(54,-1,4,3)\n",
    "oao = oao.cpu().detach().numpy()\n",
    "oao = oao.transpose(0,1,3,2)\n",
    "oao = oao.astype(np.int)\n",
    "# print(test_input[5])\n",
    "# print(oao[5])"
   ]
  },
  {
   "cell_type": "code",
   "execution_count": null,
   "metadata": {},
   "outputs": [],
   "source": [
    "with open('test_gen.npy', 'wb') as f:\n",
    "    np.save(f, oao)"
   ]
  },
  {
   "cell_type": "code",
   "execution_count": null,
   "metadata": {},
   "outputs": [],
   "source": []
  }
 ],
 "metadata": {
  "kernelspec": {
   "display_name": "Python 3",
   "language": "python",
   "name": "python3"
  },
  "language_info": {
   "codemirror_mode": {
    "name": "ipython",
    "version": 3
   },
   "file_extension": ".py",
   "mimetype": "text/x-python",
   "name": "python",
   "nbconvert_exporter": "python",
   "pygments_lexer": "ipython3",
   "version": "3.8.5"
  }
 },
 "nbformat": 4,
 "nbformat_minor": 4
}
